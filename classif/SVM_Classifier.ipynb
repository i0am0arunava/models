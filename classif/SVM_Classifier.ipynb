{
 "cells": [
  {
   "cell_type": "markdown",
   "metadata": {},
   "source": [
    "# Classification using Support  Vector Machine"
   ]
  },
  {
   "cell_type": "markdown",
   "metadata": {},
   "source": [
    "# Load dataset"
   ]
  },
  {
   "cell_type": "code",
   "execution_count": 2,
   "metadata": {},
   "outputs": [],
   "source": [
    "data_name=\"pima\""
   ]
  },
  {
   "cell_type": "code",
   "execution_count": 3,
   "metadata": {},
   "outputs": [
    {
     "data": {
      "text/plain": [
       "(768, 8)"
      ]
     },
     "execution_count": 3,
     "metadata": {},
     "output_type": "execute_result"
    }
   ],
   "source": [
    "from scipy.io import loadmat\n",
    "path=\"./ML/dataset/\"\n",
    "\n",
    "if data_name==\"pima\":\n",
    "    data = loadmat(path+'pima_dataset.mat')\n",
    "elif data_name==\"heart\":\n",
    "    data = loadmat(path+'heart_dataset.mat')\n",
    "elif data_name==\"hepatitis\":\n",
    "    data = loadmat(path+'heart_dataset.mat')\n",
    "elif data_name==\"ECG\":\n",
    "    data = loadmat(path+'ECG_dataset.mat')\n",
    "elif data_name==\"dermatology\":\n",
    "    data = loadmat(path+'dermatology_dataset.mat')\n",
    "elif data_name==\"kidney\":\n",
    "    data = loadmat(path+'kidney_dataset.mat')\n",
    "elif data_name==\"liver\":\n",
    "    data = loadmat(path+'liver_dataset.mat')\n",
    "elif data_name==\"lung\":\n",
    "    data = loadmat(path+'lung_dataset.mat')\n",
    "elif data_name==\"parkinsons\":\n",
    "    data = loadmat(path+'parkinsons_dataset.mat')\n",
    "elif data_name==\"SPECT\":\n",
    "    data = loadmat(path+'SPECT_dataset.mat')    \n",
    "elif data_name==\"SPECTF\":\n",
    "    data = loadmat(path+'SPECTF_dataset.mat')\n",
    "elif data_name==\"thyroid\":\n",
    "    data = loadmat(path+'thyroid_dataset.mat') \n",
    "elif data_name==\"vertebral\":\n",
    "    data = loadmat(path+'vertebral_dataset.mat') \n",
    "elif data_name==\"wdbc\":\n",
    "    data = loadmat(path+'wdbc_dataset.mat')\n",
    "elif data_name==\"wpbc\":\n",
    "    data = loadmat(path+'wpbc_dataset.mat')\n",
    "    \n",
    "X=data['norm_data']\n",
    "y=data['target']\n",
    "X.shape"
   ]
  },
  {
   "cell_type": "code",
   "execution_count": 35,
   "metadata": {},
   "outputs": [],
   "source": [
    "import numpy as np\n",
    "import math\n",
    "from sklearn.model_selection import train_test_split\n",
    "from sklearn import datasets\n",
    "from sklearn.model_selection import cross_val_score\n",
    "from sklearn.model_selection import KFold\n",
    "import xlwt\n",
    "import timeit"
   ]
  },
  {
   "cell_type": "code",
   "execution_count": 36,
   "metadata": {},
   "outputs": [],
   "source": [
    "from sklearn.neural_network import MLPClassifier\n",
    "from sklearn import svm"
   ]
  },
  {
   "cell_type": "code",
   "execution_count": 37,
   "metadata": {},
   "outputs": [],
   "source": [
    "from sklearn.metrics import *"
   ]
  },
  {
   "cell_type": "markdown",
   "metadata": {},
   "source": [
    "# Classification performance measure function"
   ]
  },
  {
   "cell_type": "code",
   "execution_count": 38,
   "metadata": {},
   "outputs": [],
   "source": [
    "def myConfusion_Matrix(y_true, y_pred):\n",
    "    conf_matrix=np.array([[0,0],[0,0]])\n",
    "    for i in range(0,y_true.shape[0]):\n",
    "        if y_true[i]==1 and y_pred[i]==1:\n",
    "            conf_matrix[0][0]+=1\n",
    "        if y_true[i]==0 and y_pred[i]==1:\n",
    "            conf_matrix[0][1]+=1\n",
    "        if y_true[i]==1 and y_pred[i]==0:\n",
    "            conf_matrix[1][0]+=1\n",
    "        if y_true[i]==0 and y_pred[i]==0:\n",
    "            conf_matrix[1][1]+=1\n",
    "    return conf_matrix          "
   ]
  },
  {
   "cell_type": "code",
   "execution_count": 39,
   "metadata": {},
   "outputs": [],
   "source": [
    "def classification_performance(conf_matrix):\n",
    "    accureacy=(conf_matrix[0][0]+conf_matrix[1][1])/(conf_matrix[0][0]+conf_matrix[0][1]+conf_matrix[1][0]+conf_matrix[1][1])\n",
    "    recall=(conf_matrix[0][0])/(conf_matrix[0][0]+conf_matrix[1][0])\n",
    "    specificity=(conf_matrix[1][1])/(conf_matrix[0][1]+conf_matrix[1][1])\n",
    "    precision=(conf_matrix[0][0])/(conf_matrix[0][0]+conf_matrix[0][1])\n",
    "    F1_score=(2*precision*recall)/(precision+recall)\n",
    "    GM=math.sqrt(recall*specificity)\n",
    "    FPR=1-specificity\n",
    "    return accureacy,recall,specificity,precision,F1_score,GM,FPR"
   ]
  },
  {
   "cell_type": "code",
   "execution_count": 56,
   "metadata": {},
   "outputs": [],
   "source": [
    "def training_accuracy(y_train, y_train_pred):\n",
    "    train_accuracy=0;\n",
    "    for i in range(0,y_train.shape[0]):\n",
    "        if y_train[i] == y_train_pred[i]:\n",
    "            train_accuracy+=1\n",
    "    return  train_accuracy/y_train.shape[0]      "
   ]
  },
  {
   "cell_type": "code",
   "execution_count": 61,
   "metadata": {},
   "outputs": [],
   "source": [
    "#excel file writing\n",
    "workbook = xlwt.Workbook()  \n",
    "filename=\"svm.xls\"    \n",
    "sheet = workbook.add_sheet(data_name) \n",
    "sheet.write(0, 0, 'Accuracy') \n",
    "sheet.write(0, 1, 'recall') \n",
    "sheet.write(0, 2, 'specificity') \n",
    "sheet.write(0, 3, 'precision') \n",
    "sheet.write(0, 4, 'F1_score')\n",
    "sheet.write(0, 5, 'GM')\n",
    "sheet.write(0, 6, 'FPR')\n",
    "sheet.write(0, 7, 'Training Accuracy')\n",
    "sheet.write(0, 8, 'CPUTime')\n",
    "workbook.save(filename) "
   ]
  },
  {
   "cell_type": "code",
   "execution_count": 62,
   "metadata": {},
   "outputs": [
    {
     "name": "stdout",
     "output_type": "stream",
     "text": [
      "KFold(n_splits=10, random_state=None, shuffle=False)\n",
      "Fold:0\n",
      "(691, 8)\n"
     ]
    },
    {
     "name": "stderr",
     "output_type": "stream",
     "text": [
      "G:\\Anaconda\\lib\\site-packages\\sklearn\\utils\\validation.py:760: DataConversionWarning: A column-vector y was passed when a 1d array was expected. Please change the shape of y to (n_samples, ), for example using ravel().\n",
      "  y = column_or_1d(y, warn=True)\n"
     ]
    },
    {
     "name": "stdout",
     "output_type": "stream",
     "text": [
      "Train Accuracy=0.98\n",
      "[[15 10]\n",
      " [17 35]]\n",
      "Accuracy: 0.65, Recall=0.47, specificity=0.78, precision=0.60, F1=0.53, GM=0.60, FPR=0.22\n",
      "Fold:1\n",
      "(691, 8)\n"
     ]
    },
    {
     "name": "stderr",
     "output_type": "stream",
     "text": [
      "G:\\Anaconda\\lib\\site-packages\\sklearn\\utils\\validation.py:760: DataConversionWarning: A column-vector y was passed when a 1d array was expected. Please change the shape of y to (n_samples, ), for example using ravel().\n",
      "  y = column_or_1d(y, warn=True)\n"
     ]
    },
    {
     "name": "stdout",
     "output_type": "stream",
     "text": [
      "Train Accuracy=0.97\n",
      "[[12 14]\n",
      " [10 41]]\n",
      "Accuracy: 0.69, Recall=0.55, specificity=0.75, precision=0.46, F1=0.50, GM=0.64, FPR=0.25\n",
      "Fold:2\n",
      "(691, 8)\n"
     ]
    },
    {
     "name": "stderr",
     "output_type": "stream",
     "text": [
      "G:\\Anaconda\\lib\\site-packages\\sklearn\\utils\\validation.py:760: DataConversionWarning: A column-vector y was passed when a 1d array was expected. Please change the shape of y to (n_samples, ), for example using ravel().\n",
      "  y = column_or_1d(y, warn=True)\n"
     ]
    },
    {
     "name": "stdout",
     "output_type": "stream",
     "text": [
      "Train Accuracy=0.97\n",
      "[[16 14]\n",
      " [18 29]]\n",
      "Accuracy: 0.58, Recall=0.47, specificity=0.67, precision=0.53, F1=0.50, GM=0.56, FPR=0.33\n",
      "Fold:3\n",
      "(691, 8)\n"
     ]
    },
    {
     "name": "stderr",
     "output_type": "stream",
     "text": [
      "G:\\Anaconda\\lib\\site-packages\\sklearn\\utils\\validation.py:760: DataConversionWarning: A column-vector y was passed when a 1d array was expected. Please change the shape of y to (n_samples, ), for example using ravel().\n",
      "  y = column_or_1d(y, warn=True)\n"
     ]
    },
    {
     "name": "stdout",
     "output_type": "stream",
     "text": [
      "Train Accuracy=0.97\n",
      "[[17 15]\n",
      " [13 32]]\n",
      "Accuracy: 0.64, Recall=0.57, specificity=0.68, precision=0.53, F1=0.55, GM=0.62, FPR=0.32\n",
      "Fold:4\n",
      "(691, 8)\n"
     ]
    },
    {
     "name": "stderr",
     "output_type": "stream",
     "text": [
      "G:\\Anaconda\\lib\\site-packages\\sklearn\\utils\\validation.py:760: DataConversionWarning: A column-vector y was passed when a 1d array was expected. Please change the shape of y to (n_samples, ), for example using ravel().\n",
      "  y = column_or_1d(y, warn=True)\n"
     ]
    },
    {
     "name": "stdout",
     "output_type": "stream",
     "text": [
      "Train Accuracy=0.96\n",
      "[[12 12]\n",
      " [15 38]]\n",
      "Accuracy: 0.65, Recall=0.44, specificity=0.76, precision=0.50, F1=0.47, GM=0.58, FPR=0.24\n",
      "Fold:5\n",
      "(691, 8)\n"
     ]
    },
    {
     "name": "stderr",
     "output_type": "stream",
     "text": [
      "G:\\Anaconda\\lib\\site-packages\\sklearn\\utils\\validation.py:760: DataConversionWarning: A column-vector y was passed when a 1d array was expected. Please change the shape of y to (n_samples, ), for example using ravel().\n",
      "  y = column_or_1d(y, warn=True)\n"
     ]
    },
    {
     "name": "stdout",
     "output_type": "stream",
     "text": [
      "Train Accuracy=0.97\n",
      "[[14  9]\n",
      " [16 38]]\n",
      "Accuracy: 0.68, Recall=0.47, specificity=0.81, precision=0.61, F1=0.53, GM=0.61, FPR=0.19\n",
      "Fold:6\n",
      "(691, 8)\n"
     ]
    },
    {
     "name": "stderr",
     "output_type": "stream",
     "text": [
      "G:\\Anaconda\\lib\\site-packages\\sklearn\\utils\\validation.py:760: DataConversionWarning: A column-vector y was passed when a 1d array was expected. Please change the shape of y to (n_samples, ), for example using ravel().\n",
      "  y = column_or_1d(y, warn=True)\n"
     ]
    },
    {
     "name": "stdout",
     "output_type": "stream",
     "text": [
      "Train Accuracy=0.97\n",
      "[[ 8 16]\n",
      " [ 6 47]]\n",
      "Accuracy: 0.71, Recall=0.57, specificity=0.75, precision=0.33, F1=0.42, GM=0.65, FPR=0.25\n",
      "Fold:7\n",
      "(691, 8)\n"
     ]
    },
    {
     "name": "stderr",
     "output_type": "stream",
     "text": [
      "G:\\Anaconda\\lib\\site-packages\\sklearn\\utils\\validation.py:760: DataConversionWarning: A column-vector y was passed when a 1d array was expected. Please change the shape of y to (n_samples, ), for example using ravel().\n",
      "  y = column_or_1d(y, warn=True)\n"
     ]
    },
    {
     "name": "stdout",
     "output_type": "stream",
     "text": [
      "Train Accuracy=0.97\n",
      "[[15 13]\n",
      " [10 39]]\n",
      "Accuracy: 0.70, Recall=0.60, specificity=0.75, precision=0.54, F1=0.57, GM=0.67, FPR=0.25\n",
      "Fold:8\n",
      "(692, 8)\n"
     ]
    },
    {
     "name": "stderr",
     "output_type": "stream",
     "text": [
      "G:\\Anaconda\\lib\\site-packages\\sklearn\\utils\\validation.py:760: DataConversionWarning: A column-vector y was passed when a 1d array was expected. Please change the shape of y to (n_samples, ), for example using ravel().\n",
      "  y = column_or_1d(y, warn=True)\n"
     ]
    },
    {
     "name": "stdout",
     "output_type": "stream",
     "text": [
      "Train Accuracy=0.97\n",
      "[[15 13]\n",
      " [ 9 39]]\n",
      "Accuracy: 0.71, Recall=0.62, specificity=0.75, precision=0.54, F1=0.58, GM=0.68, FPR=0.25\n",
      "Fold:9\n",
      "(692, 8)\n"
     ]
    },
    {
     "name": "stderr",
     "output_type": "stream",
     "text": [
      "G:\\Anaconda\\lib\\site-packages\\sklearn\\utils\\validation.py:760: DataConversionWarning: A column-vector y was passed when a 1d array was expected. Please change the shape of y to (n_samples, ), for example using ravel().\n",
      "  y = column_or_1d(y, warn=True)\n"
     ]
    },
    {
     "name": "stdout",
     "output_type": "stream",
     "text": [
      "Train Accuracy=0.97\n",
      "[[15  9]\n",
      " [15 37]]\n",
      "Accuracy: 0.68, Recall=0.50, specificity=0.80, precision=0.62, F1=0.56, GM=0.63, FPR=0.20\n",
      "Classification using SVM is completed.\n"
     ]
    }
   ],
   "source": [
    "kf = KFold(n_splits=10)\n",
    "kf.get_n_splits(X)\n",
    "print(kf)\n",
    "iter=0;\n",
    "for train, test in kf.split(X):\n",
    "    \n",
    "    print(\"Fold:%d\" % (iter))\n",
    "    #print(\"%s %s\" % (train, test))\n",
    "    X_train=X[train]\n",
    "    print(X_train.shape)\n",
    "    y_train=y[train]\n",
    "    X_test=X[test]\n",
    "    y_test=y[test]\n",
    "    #for i in range(y_test.shape[0]):\n",
    "            #print(y_test[i])\n",
    "    \n",
    "    model = svm.SVC(kernel='rbf', gamma=0.5, C=1e+6)\n",
    "    \n",
    "    start_time = timeit.default_timer()\n",
    "    model.fit(X_train, y_train)\n",
    "    end_time = timeit.default_timer()\n",
    "    exec_time=end_time-start_time\n",
    "    #calculate training accuracy\n",
    "    y_train_pred=model.predict(X_train)\n",
    "    train_acc=training_accuracy(y_train, y_train_pred)\n",
    "   \n",
    "    print(\"Train Accuracy=%0.2f\" % (train_acc))\n",
    "    y_pred=model.predict(X_test)\n",
    "    #for i in range(y_pred.shape[0]):\n",
    "            #print(y_pred[i])\n",
    "    conf_matrix=myConfusion_Matrix(y_test, y_pred)\n",
    "    print(conf_matrix)\n",
    "    acc, recall, spec, precision, F1, GM, FPR=classification_performance(conf_matrix)\n",
    "    print(\"Accuracy: %0.2f, Recall=%0.2f, specificity=%0.2f, precision=%0.2f, F1=%0.2f, GM=%0.2f, FPR=%0.2f\" % (acc, recall, spec, precision, F1, GM, FPR))\n",
    "    iter=iter+1\n",
    "    #writing to excel file\n",
    "    sheet.write(iter, 0, acc) \n",
    "    sheet.write(iter, 1, recall) \n",
    "    sheet.write(iter, 2, spec) \n",
    "    sheet.write(iter, 3, precision) \n",
    "    sheet.write(iter, 4, F1) \n",
    "    sheet.write(iter, 5, GM) \n",
    "    sheet.write(iter, 6, FPR)\n",
    "    sheet.write(iter, 7, train_acc)\n",
    "    sheet.write(iter, 8, exec_time)\n",
    "    workbook.save(filename) \n",
    "print(\"Classification using SVM is completed.\")    "
   ]
  },
  {
   "cell_type": "code",
   "execution_count": null,
   "metadata": {},
   "outputs": [],
   "source": []
  }
 ],
 "metadata": {
  "kernelspec": {
   "display_name": "Python 3",
   "language": "python",
   "name": "python3"
  },
  "language_info": {
   "codemirror_mode": {
    "name": "ipython",
    "version": 3
   },
   "file_extension": ".py",
   "mimetype": "text/x-python",
   "name": "python",
   "nbconvert_exporter": "python",
   "pygments_lexer": "ipython3",
   "version": "3.7.6"
  }
 },
 "nbformat": 4,
 "nbformat_minor": 4
}
