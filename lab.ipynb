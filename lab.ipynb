{
 "cells": [
  {
   "cell_type": "code",
   "execution_count": 1,
   "id": "c4ac8ba6-d7ee-4410-b69e-3e03dd9691fa",
   "metadata": {},
   "outputs": [],
   "source": [
    "\n",
    "from scipy.io import loadmat\n",
    "from sklearn.model_selection import *\n",
    "from sklearn.naive_bayes import *\n",
    "from sklearn.neighbors import *\n",
    "from sklearn import *\n",
    "from sklearn.metrics import *\n",
    "from numpy import *\n",
    "import numpy as np\n",
    "import pandas as pd\n",
    "import math"
   ]
  },
  {
   "cell_type": "code",
   "execution_count": 23,
   "id": "14039e83-f545-467c-b935-31f7764926c5",
   "metadata": {},
   "outputs": [],
   "source": [
    "data =loadmat('pima_dataset')\n",
    "x=data['norm_data']\n",
    "y=data['target']\n"
   ]
  },
  {
   "cell_type": "code",
   "execution_count": 25,
   "id": "8087f0b8-adc6-4fd4-93ae-6187f3d25f4a",
   "metadata": {},
   "outputs": [],
   "source": [
    "def val(conf_matrix):\n",
    "    accureacy=(conf_matrix[0][0]+conf_matrix[1][1])/(conf_matrix[0][0]+conf_matrix[0][1]+conf_matrix[1][0]+conf_matrix[1][1])\n",
    "    recall=(conf_matrix[0][0])/(conf_matrix[0][0]+conf_matrix[1][0])\n",
    "    specificity=(conf_matrix[1][1])/(conf_matrix[0][1]+conf_matrix[1][1])\n",
    "    precision=(conf_matrix[0][0])/(conf_matrix[0][0]+conf_matrix[0][1])\n",
    "    F1_score=(2*precision*recall)/(precision+recall)\n",
    "    GM=math.sqrt(recall*specificity)\n",
    "    FPR=1-specificity\n",
    "    return accureacy,recall,specificity,precision,F1_score,GM,FPR"
   ]
  },
  {
   "cell_type": "code",
   "execution_count": 27,
   "id": "bd5450fe-0249-4376-a39b-5ae747110c2f",
   "metadata": {},
   "outputs": [
    {
     "name": "stdout",
     "output_type": "stream",
     "text": [
      "Accuracy: 0.68, Recall=0.72, specificity=0.61, precision=0.73, F1=0.73, GM=0.66, FPR=0.39\n",
      "Accuracy: 0.81, Recall=0.84, specificity=0.68, precision=0.89, F1=0.87, GM=0.76, FPR=0.32\n",
      "Accuracy: 0.75, Recall=0.73, specificity=0.80, precision=0.88, F1=0.80, GM=0.76, FPR=0.20\n",
      "Accuracy: 0.71, Recall=0.75, specificity=0.65, precision=0.81, F1=0.78, GM=0.70, FPR=0.35\n",
      "Accuracy: 0.73, Recall=0.78, specificity=0.62, precision=0.80, F1=0.79, GM=0.69, FPR=0.38\n",
      "Accuracy: 0.77, Recall=0.76, specificity=0.77, precision=0.89, F1=0.82, GM=0.77, FPR=0.23\n",
      "Accuracy: 0.81, Recall=0.91, specificity=0.47, precision=0.84, F1=0.88, GM=0.66, FPR=0.53\n",
      "Accuracy: 0.82, Recall=0.88, specificity=0.70, precision=0.85, F1=0.86, GM=0.79, FPR=0.30\n",
      "Accuracy: 0.74, Recall=0.80, specificity=0.59, precision=0.83, F1=0.81, GM=0.69, FPR=0.41\n",
      "Accuracy: 0.75, Recall=0.75, specificity=0.74, precision=0.87, F1=0.81, GM=0.75, FPR=0.26\n"
     ]
    },
    {
     "name": "stderr",
     "output_type": "stream",
     "text": [
      "C:\\Users\\paria\\anaconda3\\Lib\\site-packages\\sklearn\\utils\\validation.py:1300: DataConversionWarning: A column-vector y was passed when a 1d array was expected. Please change the shape of y to (n_samples, ), for example using ravel().\n",
      "  y = column_or_1d(y, warn=True)\n",
      "C:\\Users\\paria\\anaconda3\\Lib\\site-packages\\sklearn\\utils\\validation.py:1300: DataConversionWarning: A column-vector y was passed when a 1d array was expected. Please change the shape of y to (n_samples, ), for example using ravel().\n",
      "  y = column_or_1d(y, warn=True)\n",
      "C:\\Users\\paria\\anaconda3\\Lib\\site-packages\\sklearn\\utils\\validation.py:1300: DataConversionWarning: A column-vector y was passed when a 1d array was expected. Please change the shape of y to (n_samples, ), for example using ravel().\n",
      "  y = column_or_1d(y, warn=True)\n",
      "C:\\Users\\paria\\anaconda3\\Lib\\site-packages\\sklearn\\utils\\validation.py:1300: DataConversionWarning: A column-vector y was passed when a 1d array was expected. Please change the shape of y to (n_samples, ), for example using ravel().\n",
      "  y = column_or_1d(y, warn=True)\n",
      "C:\\Users\\paria\\anaconda3\\Lib\\site-packages\\sklearn\\utils\\validation.py:1300: DataConversionWarning: A column-vector y was passed when a 1d array was expected. Please change the shape of y to (n_samples, ), for example using ravel().\n",
      "  y = column_or_1d(y, warn=True)\n",
      "C:\\Users\\paria\\anaconda3\\Lib\\site-packages\\sklearn\\utils\\validation.py:1300: DataConversionWarning: A column-vector y was passed when a 1d array was expected. Please change the shape of y to (n_samples, ), for example using ravel().\n",
      "  y = column_or_1d(y, warn=True)\n",
      "C:\\Users\\paria\\anaconda3\\Lib\\site-packages\\sklearn\\utils\\validation.py:1300: DataConversionWarning: A column-vector y was passed when a 1d array was expected. Please change the shape of y to (n_samples, ), for example using ravel().\n",
      "  y = column_or_1d(y, warn=True)\n",
      "C:\\Users\\paria\\anaconda3\\Lib\\site-packages\\sklearn\\utils\\validation.py:1300: DataConversionWarning: A column-vector y was passed when a 1d array was expected. Please change the shape of y to (n_samples, ), for example using ravel().\n",
      "  y = column_or_1d(y, warn=True)\n",
      "C:\\Users\\paria\\anaconda3\\Lib\\site-packages\\sklearn\\utils\\validation.py:1300: DataConversionWarning: A column-vector y was passed when a 1d array was expected. Please change the shape of y to (n_samples, ), for example using ravel().\n",
      "  y = column_or_1d(y, warn=True)\n",
      "C:\\Users\\paria\\anaconda3\\Lib\\site-packages\\sklearn\\utils\\validation.py:1300: DataConversionWarning: A column-vector y was passed when a 1d array was expected. Please change the shape of y to (n_samples, ), for example using ravel().\n",
      "  y = column_or_1d(y, warn=True)\n"
     ]
    }
   ],
   "source": [
    "kf=KFold(n_splits=10)\n",
    "i=0;\n",
    "for train,test in  kf.split(x):\n",
    "  acc=np.zeros(10,float)\n",
    "  re=np.zeros(10,float)\n",
    "  spec=np.zeros(10,float)\n",
    "  pre=np.zeros(10,float)\n",
    "  f1=np.zeros(10,float)\n",
    "  gm=np.zeros(10,float)\n",
    "  fpr=np.zeros(10,float)\n",
    "  x_train=x[train]\n",
    "  y_train=y[train]\n",
    "  x_test=x[test]\n",
    "  y_test=y[test]\n",
    "  cf=GaussianNB()\n",
    "  cf.fit(x_train,y_train)\n",
    "  y_pred=cf.predict(x_test)\n",
    "  conf=confusion_matrix(y_test,y_pred)\n",
    "  acc[i],re[i],spec[i],pre[i],f1[i],gm[i],fpr[i]=val(conf)\n",
    " \n",
    "  print(\"Accuracy: %0.2f, Recall=%0.2f, specificity=%0.2f, precision=%0.2f, F1=%0.2f, GM=%0.2f, FPR=%0.2f\" % (acc[i], re[i], spec[i], pre[i], f1[i], gm[i], fpr[i]))\n",
    "  i=i+1;"
   ]
  },
  {
   "cell_type": "code",
   "execution_count": 29,
   "id": "175ac7a8-6d06-4138-bca2-8be322c80f48",
   "metadata": {},
   "outputs": [
    {
     "name": "stdout",
     "output_type": "stream",
     "text": [
      "Accuracy: 0.07, Recall=0.08, specificity=0.07, precision=0.09, F1=0.08, GM=0.07, FPR=0.03\n"
     ]
    }
   ],
   "source": [
    "\n",
    " print(\"Accuracy: %0.2f, Recall=%0.2f, specificity=%0.2f, precision=%0.2f, F1=%0.2f, GM=%0.2f, FPR=%0.2f\" % (np.mean(acc),np.mean(re), np.mean(spec), np.mean(pre), np.mean(f1), np.mean(gm), np.mean(fpr)))"
   ]
  },
  {
   "cell_type": "code",
   "execution_count": 31,
   "id": "275eba6f-7678-4c83-8af2-21719ad8accb",
   "metadata": {},
   "outputs": [
    {
     "name": "stdout",
     "output_type": "stream",
     "text": [
      "Accuracy: 0.23, Recall=0.23, specificity=0.22, precision=0.26, F1=0.24, GM=0.22, FPR=0.08\n"
     ]
    }
   ],
   "source": [
    "\n",
    " print(\"Accuracy: %0.2f, Recall=%0.2f, specificity=%0.2f, precision=%0.2f, F1=%0.2f, GM=%0.2f, FPR=%0.2f\" % (np.std(acc),np.std(re), np.std(spec), np.std(pre), np.std(f1), np.std(gm), np.std(fpr)))"
   ]
  },
  {
   "cell_type": "code",
   "execution_count": 33,
   "id": "30b15111-124e-43e6-94b4-7c5dfd273120",
   "metadata": {},
   "outputs": [
    {
     "name": "stdout",
     "output_type": "stream",
     "text": [
      "Accuracy: 0.00, Recall=0.00, specificity=0.00, precision=0.00, F1=0.00, GM=0.00, FPR=0.00\n"
     ]
    }
   ],
   "source": [
    "\n",
    "\n",
    " print(\"Accuracy: %0.2f, Recall=%0.2f, specificity=%0.2f, precision=%0.2f, F1=%0.2f, GM=%0.2f, FPR=%0.2f\" % (np.median(acc),np.median(re), np.median(spec), np.median(pre), np.median(f1), np.median(gm), np.median(fpr)))"
   ]
  },
  {
   "cell_type": "code",
   "execution_count": 35,
   "id": "4983ea96-98b1-44ff-8a6e-a212da9e50cf",
   "metadata": {},
   "outputs": [
    {
     "name": "stdout",
     "output_type": "stream",
     "text": [
      "Accuracy: 0.75, Recall=0.75, specificity=0.74, precision=0.87, F1=0.81, GM=0.75, FPR=0.26\n"
     ]
    }
   ],
   "source": [
    "\n",
    "\n",
    " print(\"Accuracy: %0.2f, Recall=%0.2f, specificity=%0.2f, precision=%0.2f, F1=%0.2f, GM=%0.2f, FPR=%0.2f\" % (np.max(acc),np.max(re), np.max(spec), np.max(pre), np.max(f1), np.max(gm), np.max(fpr)))"
   ]
  },
  {
   "cell_type": "code",
   "execution_count": 37,
   "id": "735c0377-c6be-47f1-a142-44bab6834ac2",
   "metadata": {},
   "outputs": [
    {
     "name": "stdout",
     "output_type": "stream",
     "text": [
      "Accuracy: 0.00, Recall=0.00, specificity=0.00, precision=0.00, F1=0.00, GM=0.00, FPR=0.00\n"
     ]
    }
   ],
   "source": [
    "\n",
    "\n",
    " print(\"Accuracy: %0.2f, Recall=%0.2f, specificity=%0.2f, precision=%0.2f, F1=%0.2f, GM=%0.2f, FPR=%0.2f\" % (np.min(acc),np.min(re), np.min(spec), np.min(pre), np.min(f1), np.min(gm), np.min(fpr)))"
   ]
  },
  {
   "cell_type": "code",
   "execution_count": null,
   "id": "448cc80e-a5dc-4120-912e-117273e606ae",
   "metadata": {},
   "outputs": [],
   "source": []
  },
  {
   "cell_type": "code",
   "execution_count": null,
   "id": "49c8925d-1deb-4daa-9a30-418f7b938f16",
   "metadata": {},
   "outputs": [],
   "source": []
  },
  {
   "cell_type": "code",
   "execution_count": null,
   "id": "5af9a756-23d0-4944-ad7b-fdcd2068290d",
   "metadata": {},
   "outputs": [],
   "source": []
  }
 ],
 "metadata": {
  "kernelspec": {
   "display_name": "Python 3 (ipykernel)",
   "language": "python",
   "name": "python3"
  },
  "language_info": {
   "codemirror_mode": {
    "name": "ipython",
    "version": 3
   },
   "file_extension": ".py",
   "mimetype": "text/x-python",
   "name": "python",
   "nbconvert_exporter": "python",
   "pygments_lexer": "ipython3",
   "version": "3.12.4"
  }
 },
 "nbformat": 4,
 "nbformat_minor": 5
}
