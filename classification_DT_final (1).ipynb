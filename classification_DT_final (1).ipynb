{
 "cells": [
  {
   "cell_type": "markdown",
   "metadata": {
    "id": "TAKGHX2jCkrQ"
   },
   "source": [
    "# Medical data classification using Decision Tree"
   ]
  },
  {
   "cell_type": "markdown",
   "metadata": {
    "id": "BegYe7AbCkrY"
   },
   "source": [
    "# Load dataset"
   ]
  },
  {
   "cell_type": "code",
   "execution_count": 1,
   "metadata": {
    "colab": {
     "base_uri": "https://localhost:8080/"
    },
    "executionInfo": {
     "elapsed": 2453,
     "status": "ok",
     "timestamp": 1676366423520,
     "user": {
      "displayName": "Dr. Tapas Si",
      "userId": "04957223306100746105"
     },
     "user_tz": -330
    },
    "id": "Cj2Jb_ZTCkrZ",
    "outputId": "eeb8fbf8-3617-42ab-cc65-7208e05b25b4"
   },
   "outputs": [
    {
     "data": {
      "text/plain": [
       "(768, 8)"
      ]
     },
     "execution_count": 1,
     "metadata": {},
     "output_type": "execute_result"
    }
   ],
   "source": [
    "from scipy.io import loadmat\n",
    "#path=\"/content/drive/MyDrive/UEM/AIML LAB/Classification/\"\n",
    "path=\"\"\n",
    "data = loadmat(path+'pima_dataset.mat')\n",
    "X=data['norm_data']\n",
    "y=data['target']\n",
    "X.shape"
   ]
  },
  {
   "cell_type": "code",
   "execution_count": null,
   "metadata": {
    "executionInfo": {
     "elapsed": 9,
     "status": "ok",
     "timestamp": 1676366423520,
     "user": {
      "displayName": "Dr. Tapas Si",
      "userId": "04957223306100746105"
     },
     "user_tz": -330
    },
    "id": "o4kljmESCx9J"
   },
   "outputs": [],
   "source": []
  },
  {
   "cell_type": "code",
   "execution_count": 4,
   "metadata": {
    "executionInfo": {
     "elapsed": 1707,
     "status": "ok",
     "timestamp": 1676366425221,
     "user": {
      "displayName": "Dr. Tapas Si",
      "userId": "04957223306100746105"
     },
     "user_tz": -330
    },
    "id": "t4xD0NNbCkrc"
   },
   "outputs": [],
   "source": [
    "import numpy as np\n",
    "import math\n",
    "\n",
    "from sklearn.model_selection import *"
   ]
  },
  {
   "cell_type": "code",
   "execution_count": 6,
   "metadata": {
    "executionInfo": {
     "elapsed": 41,
     "status": "ok",
     "timestamp": 1676366425222,
     "user": {
      "displayName": "Dr. Tapas Si",
      "userId": "04957223306100746105"
     },
     "user_tz": -330
    },
    "id": "smCr9EKACkrd"
   },
   "outputs": [],
   "source": [
    "from sklearn import *"
   ]
  },
  {
   "cell_type": "code",
   "execution_count": 8,
   "metadata": {
    "executionInfo": {
     "elapsed": 41,
     "status": "ok",
     "timestamp": 1676366425223,
     "user": {
      "displayName": "Dr. Tapas Si",
      "userId": "04957223306100746105"
     },
     "user_tz": -330
    },
    "id": "5Qz7jQfFCkrd"
   },
   "outputs": [],
   "source": [
    "from sklearn.metrics import *"
   ]
  },
  {
   "cell_type": "markdown",
   "metadata": {
    "id": "llcnuVJXCkre"
   },
   "source": [
    "# Classification performance measure function"
   ]
  },
  {
   "cell_type": "code",
   "execution_count": 11,
   "metadata": {
    "executionInfo": {
     "elapsed": 40,
     "status": "ok",
     "timestamp": 1676366425223,
     "user": {
      "displayName": "Dr. Tapas Si",
      "userId": "04957223306100746105"
     },
     "user_tz": -330
    },
    "id": "UJaDmThQCkrf"
   },
   "outputs": [],
   "source": [
    "def classification_performance(conf_matrix):\n",
    "    accureacy=(conf_matrix[0][0]+conf_matrix[1][1])/(conf_matrix[0][0]+conf_matrix[0][1]+conf_matrix[1][0]+conf_matrix[1][1])\n",
    "    recall=(conf_matrix[0][0])/(conf_matrix[0][0]+conf_matrix[1][0])\n",
    "    specificity=(conf_matrix[1][1])/(conf_matrix[0][1]+conf_matrix[1][1])\n",
    "    precision=(conf_matrix[0][0])/(conf_matrix[0][0]+conf_matrix[0][1])\n",
    "    F1_score=(2*precision*recall)/(precision+recall)\n",
    "    GM=math.sqrt(recall*specificity)\n",
    "    FPR=1-specificity\n",
    "    return accureacy,recall,specificity,precision,F1_score,GM,FPR"
   ]
  },
  {
   "cell_type": "code",
   "execution_count": 25,
   "metadata": {
    "colab": {
     "base_uri": "https://localhost:8080/"
    },
    "executionInfo": {
     "elapsed": 40,
     "status": "ok",
     "timestamp": 1676366425224,
     "user": {
      "displayName": "Dr. Tapas Si",
      "userId": "04957223306100746105"
     },
     "user_tz": -330
    },
    "id": "p49fVoE5Ckrg",
    "outputId": "44495b56-5c6c-4db7-bcdb-48deebdf1f11"
   },
   "outputs": [
    {
     "name": "stdout",
     "output_type": "stream",
     "text": [
      "Fold:0\n",
      "Accuracy: 0.60, Recall=0.65, specificity=0.52, precision=0.67, F1=0.66, GM=0.58, FPR=0.48\n",
      "Fold:1\n",
      "Accuracy: 0.78, Recall=0.84, specificity=0.62, precision=0.85, F1=0.85, GM=0.72, FPR=0.38\n",
      "Fold:2\n",
      "Accuracy: 0.68, Recall=0.72, specificity=0.62, precision=0.67, F1=0.70, GM=0.67, FPR=0.38\n",
      "Fold:3\n",
      "Accuracy: 0.64, Recall=0.70, specificity=0.53, precision=0.70, F1=0.70, GM=0.61, FPR=0.47\n",
      "Fold:4\n",
      "Accuracy: 0.70, Recall=0.76, specificity=0.58, precision=0.78, F1=0.77, GM=0.66, FPR=0.42\n",
      "Fold:5\n",
      "Accuracy: 0.71, Recall=0.76, specificity=0.64, precision=0.79, F1=0.77, GM=0.70, FPR=0.36\n",
      "Fold:6\n",
      "Accuracy: 0.74, Recall=0.89, specificity=0.36, precision=0.78, F1=0.83, GM=0.57, FPR=0.64\n",
      "Fold:7\n",
      "Accuracy: 0.81, Recall=0.85, specificity=0.71, precision=0.87, F1=0.86, GM=0.78, FPR=0.29\n",
      "Fold:8\n",
      "Accuracy: 0.63, Recall=0.73, specificity=0.42, precision=0.73, F1=0.73, GM=0.55, FPR=0.58\n",
      "Fold:9\n",
      "Accuracy: 0.68, Recall=0.72, specificity=0.62, precision=0.78, F1=0.75, GM=0.67, FPR=0.38\n",
      "=======================================AVERAGE OVER K-FOLD===================================\n",
      "Accyracy mod :0.06\n"
     ]
    }
   ],
   "source": [
    "k=10;\n",
    "kf = KFold(n_splits=10)\n",
    "acc=np.zeros(k,float)\n",
    "recall=np.zeros(k,float)\n",
    "spec=np.zeros(k,float)\n",
    "precision=np.zeros(k,float)\n",
    "F1=np.zeros(k,float)\n",
    "GM=np.zeros(k,float)\n",
    "FPR=np.zeros(k,float)\n",
    "iter=0;\n",
    "for train, test in kf.split(X):\n",
    "    \n",
    "    print(\"Fold:%d\" % (iter))\n",
    "    #print(\"%s %s\" % (train, test))\n",
    "    X_train=X[train]\n",
    "    y_train=y[train]\n",
    "    X_test=X[test]\n",
    "    y_test=y[test]\n",
    "    hidden_nodes=X_train.shape[1]\n",
    "    clf = tree.DecisionTreeClassifier()\n",
    "    clf.fit(X_train, y_train)\n",
    "    y_pred=clf.predict(X_test)\n",
    "    conf_matrix=confusion_matrix(y_test, y_pred)\n",
    "    acc[iter], recall[iter], spec[iter], precision[iter], F1[iter], GM[iter], FPR[iter]=classification_performance(conf_matrix)\n",
    "    print(\"Accuracy: %0.2f, Recall=%0.2f, specificity=%0.2f, precision=%0.2f, F1=%0.2f, GM=%0.2f, FPR=%0.2f\" % (acc[iter], recall[iter], spec[iter], precision[iter], F1[iter], GM[iter], FPR[iter]))\n",
    "    iter=iter+1\n",
    "print('=======================================AVERAGE OVER K-FOLD===================================')\n",
    "# print(\"Accuracy: %0.2f, Recall=%0.2f, specificity=%0.2f, precision=%0.2f, F1=%0.2f, GM=%0.2f, FPR=%0.2f\" % (np.mean(acc), recall.mean(), spec.mean(), precision.mean(), F1.mean(), GM.mean(), FPR.mean()))  \n",
    "print(\"Accyracy mod :%0.2f\" %(np.std(acc)))"
   ]
  },
  {
   "cell_type": "code",
   "execution_count": 17,
   "metadata": {
    "colab": {
     "base_uri": "https://localhost:8080/"
    },
    "executionInfo": {
     "elapsed": 38,
     "status": "ok",
     "timestamp": 1676366425225,
     "user": {
      "displayName": "Dr. Tapas Si",
      "userId": "04957223306100746105"
     },
     "user_tz": -330
    },
    "id": "emddjqKaCkrh",
    "outputId": "fc7dc526-dc25-4e57-d692-01fa9a49d987"
   },
   "outputs": [
    {
     "data": {
      "text/plain": [
       "array([[35, 11],\n",
       "       [14, 16]], dtype=int64)"
      ]
     },
     "execution_count": 17,
     "metadata": {},
     "output_type": "execute_result"
    }
   ],
   "source": [
    "conf_matrix"
   ]
  },
  {
   "cell_type": "code",
   "execution_count": 17,
   "metadata": {
    "colab": {
     "base_uri": "https://localhost:8080/",
     "height": 1000
    },
    "executionInfo": {
     "elapsed": 6995,
     "status": "ok",
     "timestamp": 1676366432185,
     "user": {
      "displayName": "Dr. Tapas Si",
      "userId": "04957223306100746105"
     },
     "user_tz": -330
    },
    "id": "kHfiHbQGVKzb",
    "outputId": "3d7843ac-2af9-473b-f969-56a544afed51"
   },
   "outputs": [
    {
     "data": {
      "text/plain": [
       "[Text(0.5464514307228916, 0.9722222222222222, 'x[1] <= 0.721\\ngini = 0.451\\nsamples = 692\\nvalue = [454.0, 238.0]'),\n",
       " Text(0.19857555220883535, 0.9166666666666666, 'x[5] <= 0.402\\ngini = 0.361\\nsamples = 533\\nvalue = [407, 126]'),\n",
       " Text(0.0642570281124498, 0.8611111111111112, 'x[1] <= 0.626\\ngini = 0.075\\nsamples = 154\\nvalue = [148, 6]'),\n",
       " Text(0.0321285140562249, 0.8055555555555556, 'x[5] <= 0.394\\ngini = 0.031\\nsamples = 127\\nvalue = [125, 2]'),\n",
       " Text(0.01606425702811245, 0.75, 'x[6] <= 0.255\\ngini = 0.017\\nsamples = 119\\nvalue = [118, 1]'),\n",
       " Text(0.008032128514056224, 0.6944444444444444, 'gini = 0.0\\nsamples = 99\\nvalue = [99, 0]'),\n",
       " Text(0.024096385542168676, 0.6944444444444444, 'x[6] <= 0.268\\ngini = 0.095\\nsamples = 20\\nvalue = [19, 1]'),\n",
       " Text(0.01606425702811245, 0.6388888888888888, 'gini = 0.0\\nsamples = 1\\nvalue = [0, 1]'),\n",
       " Text(0.0321285140562249, 0.6388888888888888, 'gini = 0.0\\nsamples = 19\\nvalue = [19, 0]'),\n",
       " Text(0.04819277108433735, 0.75, 'x[3] <= 0.217\\ngini = 0.219\\nsamples = 8\\nvalue = [7, 1]'),\n",
       " Text(0.040160642570281124, 0.6944444444444444, 'gini = 0.0\\nsamples = 6\\nvalue = [6, 0]'),\n",
       " Text(0.05622489959839357, 0.6944444444444444, 'x[1] <= 0.48\\ngini = 0.5\\nsamples = 2\\nvalue = [1, 1]'),\n",
       " Text(0.04819277108433735, 0.6388888888888888, 'gini = 0.0\\nsamples = 1\\nvalue = [1, 0]'),\n",
       " Text(0.0642570281124498, 0.6388888888888888, 'gini = 0.0\\nsamples = 1\\nvalue = [0, 1]'),\n",
       " Text(0.0963855421686747, 0.8055555555555556, 'x[0] <= 0.147\\ngini = 0.252\\nsamples = 27\\nvalue = [23, 4]'),\n",
       " Text(0.08835341365461848, 0.75, 'gini = 0.0\\nsamples = 14\\nvalue = [14, 0]'),\n",
       " Text(0.10441767068273092, 0.75, 'x[2] <= 0.598\\ngini = 0.426\\nsamples = 13\\nvalue = [9, 4]'),\n",
       " Text(0.08835341365461848, 0.6944444444444444, 'x[5] <= 0.371\\ngini = 0.48\\nsamples = 5\\nvalue = [2, 3]'),\n",
       " Text(0.08032128514056225, 0.6388888888888888, 'x[7] <= 0.608\\ngini = 0.444\\nsamples = 3\\nvalue = [2, 1]'),\n",
       " Text(0.07228915662650602, 0.5833333333333334, 'gini = 0.0\\nsamples = 2\\nvalue = [2, 0]'),\n",
       " Text(0.08835341365461848, 0.5833333333333334, 'gini = 0.0\\nsamples = 1\\nvalue = [0, 1]'),\n",
       " Text(0.0963855421686747, 0.6388888888888888, 'gini = 0.0\\nsamples = 2\\nvalue = [0, 2]'),\n",
       " Text(0.12048192771084337, 0.6944444444444444, 'x[2] <= 0.762\\ngini = 0.219\\nsamples = 8\\nvalue = [7, 1]'),\n",
       " Text(0.11244979919678715, 0.6388888888888888, 'gini = 0.0\\nsamples = 7\\nvalue = [7, 0]'),\n",
       " Text(0.1285140562248996, 0.6388888888888888, 'gini = 0.0\\nsamples = 1\\nvalue = [0, 1]'),\n",
       " Text(0.3328940763052209, 0.8611111111111112, 'x[1] <= 0.5\\ngini = 0.433\\nsamples = 379\\nvalue = [259.0, 120.0]'),\n",
       " Text(0.1827309236947791, 0.8055555555555556, 'x[7] <= 0.075\\ngini = 0.208\\nsamples = 119\\nvalue = [105, 14]'),\n",
       " Text(0.14457831325301204, 0.75, 'x[2] <= 0.684\\ngini = 0.033\\nsamples = 59\\nvalue = [58, 1]'),\n",
       " Text(0.13654618473895583, 0.6944444444444444, 'gini = 0.0\\nsamples = 55\\nvalue = [55, 0]'),\n",
       " Text(0.15261044176706828, 0.6944444444444444, 'x[2] <= 0.701\\ngini = 0.375\\nsamples = 4\\nvalue = [3, 1]'),\n",
       " Text(0.14457831325301204, 0.6388888888888888, 'gini = 0.0\\nsamples = 1\\nvalue = [0, 1]'),\n",
       " Text(0.1606425702811245, 0.6388888888888888, 'gini = 0.0\\nsamples = 3\\nvalue = [3, 0]'),\n",
       " Text(0.22088353413654618, 0.75, 'x[6] <= 0.446\\ngini = 0.339\\nsamples = 60\\nvalue = [47, 13]'),\n",
       " Text(0.21285140562248997, 0.6944444444444444, 'x[4] <= 0.102\\ngini = 0.307\\nsamples = 58\\nvalue = [47, 11]'),\n",
       " Text(0.17670682730923695, 0.6388888888888888, 'x[1] <= 0.143\\ngini = 0.215\\nsamples = 49\\nvalue = [43, 6]'),\n",
       " Text(0.1686746987951807, 0.5833333333333334, 'gini = 0.0\\nsamples = 2\\nvalue = [0, 2]'),\n",
       " Text(0.18473895582329317, 0.5833333333333334, 'x[0] <= 0.559\\ngini = 0.156\\nsamples = 47\\nvalue = [43, 4]'),\n",
       " Text(0.1686746987951807, 0.5277777777777778, 'x[2] <= 0.566\\ngini = 0.095\\nsamples = 40\\nvalue = [38, 2]'),\n",
       " Text(0.1606425702811245, 0.4722222222222222, 'x[4] <= 0.029\\ngini = 0.298\\nsamples = 11\\nvalue = [9, 2]'),\n",
       " Text(0.15261044176706828, 0.4166666666666667, 'x[3] <= 0.404\\ngini = 0.444\\nsamples = 6\\nvalue = [4, 2]'),\n",
       " Text(0.14457831325301204, 0.3611111111111111, 'x[6] <= 0.108\\ngini = 0.32\\nsamples = 5\\nvalue = [4, 1]'),\n",
       " Text(0.13654618473895583, 0.3055555555555556, 'x[3] <= 0.192\\ngini = 0.5\\nsamples = 2\\nvalue = [1, 1]'),\n",
       " Text(0.1285140562248996, 0.25, 'gini = 0.0\\nsamples = 1\\nvalue = [0, 1]'),\n",
       " Text(0.14457831325301204, 0.25, 'gini = 0.0\\nsamples = 1\\nvalue = [1, 0]'),\n",
       " Text(0.15261044176706828, 0.3055555555555556, 'gini = 0.0\\nsamples = 3\\nvalue = [3, 0]'),\n",
       " Text(0.1606425702811245, 0.3611111111111111, 'gini = 0.0\\nsamples = 1\\nvalue = [0, 1]'),\n",
       " Text(0.1686746987951807, 0.4166666666666667, 'gini = 0.0\\nsamples = 5\\nvalue = [5, 0]'),\n",
       " Text(0.17670682730923695, 0.4722222222222222, 'gini = 0.0\\nsamples = 29\\nvalue = [29, 0]'),\n",
       " Text(0.20080321285140562, 0.5277777777777778, 'x[3] <= 0.273\\ngini = 0.408\\nsamples = 7\\nvalue = [5, 2]'),\n",
       " Text(0.1927710843373494, 0.4722222222222222, 'gini = 0.0\\nsamples = 4\\nvalue = [4, 0]'),\n",
       " Text(0.20883534136546184, 0.4722222222222222, 'x[3] <= 0.364\\ngini = 0.444\\nsamples = 3\\nvalue = [1, 2]'),\n",
       " Text(0.20080321285140562, 0.4166666666666667, 'gini = 0.0\\nsamples = 2\\nvalue = [0, 2]'),\n",
       " Text(0.21686746987951808, 0.4166666666666667, 'gini = 0.0\\nsamples = 1\\nvalue = [1, 0]'),\n",
       " Text(0.24899598393574296, 0.6388888888888888, 'x[6] <= 0.173\\ngini = 0.494\\nsamples = 9\\nvalue = [4, 5]'),\n",
       " Text(0.24096385542168675, 0.5833333333333334, 'x[6] <= 0.09\\ngini = 0.444\\nsamples = 6\\nvalue = [4, 2]'),\n",
       " Text(0.23293172690763053, 0.5277777777777778, 'x[0] <= 0.265\\ngini = 0.444\\nsamples = 3\\nvalue = [1, 2]'),\n",
       " Text(0.2248995983935743, 0.4722222222222222, 'gini = 0.0\\nsamples = 2\\nvalue = [0, 2]'),\n",
       " Text(0.24096385542168675, 0.4722222222222222, 'gini = 0.0\\nsamples = 1\\nvalue = [1, 0]'),\n",
       " Text(0.24899598393574296, 0.5277777777777778, 'gini = 0.0\\nsamples = 3\\nvalue = [3, 0]'),\n",
       " Text(0.2570281124497992, 0.5833333333333334, 'gini = 0.0\\nsamples = 3\\nvalue = [0, 3]'),\n",
       " Text(0.2289156626506024, 0.6944444444444444, 'gini = 0.0\\nsamples = 2\\nvalue = [0, 2]'),\n",
       " Text(0.48305722891566266, 0.8055555555555556, 'x[7] <= 0.158\\ngini = 0.483\\nsamples = 260\\nvalue = [154, 106]'),\n",
       " Text(0.33157630522088355, 0.75, 'x[2] <= 0.18\\ngini = 0.405\\nsamples = 138\\nvalue = [99, 39]'),\n",
       " Text(0.30220883534136544, 0.6944444444444444, 'x[6] <= 0.025\\ngini = 0.245\\nsamples = 7\\nvalue = [1, 6]'),\n",
       " Text(0.29417670682730923, 0.6388888888888888, 'gini = 0.0\\nsamples = 1\\nvalue = [1, 0]'),\n",
       " Text(0.3102409638554217, 0.6388888888888888, 'gini = 0.0\\nsamples = 6\\nvalue = [0, 6]'),\n",
       " Text(0.3609437751004016, 0.6944444444444444, 'x[5] <= 0.677\\ngini = 0.377\\nsamples = 131\\nvalue = [98, 33]'),\n",
       " Text(0.32630522088353414, 0.6388888888888888, 'x[6] <= 0.184\\ngini = 0.354\\nsamples = 126\\nvalue = [97, 29]'),\n",
       " Text(0.28112449799196787, 0.5833333333333334, 'x[1] <= 0.696\\ngini = 0.234\\nsamples = 74\\nvalue = [64, 10]'),\n",
       " Text(0.26506024096385544, 0.5277777777777778, 'x[0] <= 0.441\\ngini = 0.2\\nsamples = 71\\nvalue = [63, 8]'),\n",
       " Text(0.2570281124497992, 0.4722222222222222, 'x[4] <= 0.026\\ngini = 0.18\\nsamples = 70\\nvalue = [63, 7]'),\n",
       " Text(0.24096385542168675, 0.4166666666666667, 'x[3] <= 0.399\\ngini = 0.305\\nsamples = 32\\nvalue = [26, 6]'),\n",
       " Text(0.23293172690763053, 0.3611111111111111, 'x[2] <= 0.516\\ngini = 0.271\\nsamples = 31\\nvalue = [26, 5]'),\n",
       " Text(0.21686746987951808, 0.3055555555555556, 'x[2] <= 0.418\\ngini = 0.5\\nsamples = 4\\nvalue = [2, 2]'),\n",
       " Text(0.20883534136546184, 0.25, 'gini = 0.0\\nsamples = 1\\nvalue = [1, 0]'),\n",
       " Text(0.2248995983935743, 0.25, 'x[7] <= 0.058\\ngini = 0.444\\nsamples = 3\\nvalue = [1, 2]'),\n",
       " Text(0.21686746987951808, 0.19444444444444445, 'gini = 0.0\\nsamples = 1\\nvalue = [1, 0]'),\n",
       " Text(0.23293172690763053, 0.19444444444444445, 'gini = 0.0\\nsamples = 2\\nvalue = [0, 2]'),\n",
       " Text(0.24899598393574296, 0.3055555555555556, 'x[2] <= 0.582\\ngini = 0.198\\nsamples = 27\\nvalue = [24, 3]'),\n",
       " Text(0.24096385542168675, 0.25, 'gini = 0.0\\nsamples = 12\\nvalue = [12, 0]'),\n",
       " Text(0.2570281124497992, 0.25, 'x[2] <= 0.631\\ngini = 0.32\\nsamples = 15\\nvalue = [12, 3]'),\n",
       " Text(0.24899598393574296, 0.19444444444444445, 'x[5] <= 0.514\\ngini = 0.5\\nsamples = 6\\nvalue = [3, 3]'),\n",
       " Text(0.24096385542168675, 0.1388888888888889, 'x[7] <= 0.142\\ngini = 0.375\\nsamples = 4\\nvalue = [1, 3]'),\n",
       " Text(0.23293172690763053, 0.08333333333333333, 'gini = 0.0\\nsamples = 3\\nvalue = [0, 3]'),\n",
       " Text(0.24899598393574296, 0.08333333333333333, 'gini = 0.0\\nsamples = 1\\nvalue = [1, 0]'),\n",
       " Text(0.2570281124497992, 0.1388888888888889, 'gini = 0.0\\nsamples = 2\\nvalue = [2, 0]'),\n",
       " Text(0.26506024096385544, 0.19444444444444445, 'gini = 0.0\\nsamples = 9\\nvalue = [9, 0]'),\n",
       " Text(0.24899598393574296, 0.3611111111111111, 'gini = 0.0\\nsamples = 1\\nvalue = [0, 1]'),\n",
       " Text(0.27309236947791166, 0.4166666666666667, 'x[1] <= 0.668\\ngini = 0.051\\nsamples = 38\\nvalue = [37, 1]'),\n",
       " Text(0.26506024096385544, 0.3611111111111111, 'gini = 0.0\\nsamples = 35\\nvalue = [35, 0]'),\n",
       " Text(0.28112449799196787, 0.3611111111111111, 'x[2] <= 0.582\\ngini = 0.444\\nsamples = 3\\nvalue = [2, 1]'),\n",
       " Text(0.27309236947791166, 0.3055555555555556, 'gini = 0.0\\nsamples = 1\\nvalue = [0, 1]'),\n",
       " Text(0.2891566265060241, 0.3055555555555556, 'gini = 0.0\\nsamples = 2\\nvalue = [2, 0]'),\n",
       " Text(0.27309236947791166, 0.4722222222222222, 'gini = 0.0\\nsamples = 1\\nvalue = [0, 1]'),\n",
       " Text(0.2971887550200803, 0.5277777777777778, 'x[7] <= 0.075\\ngini = 0.444\\nsamples = 3\\nvalue = [1, 2]'),\n",
       " Text(0.2891566265060241, 0.4722222222222222, 'gini = 0.0\\nsamples = 2\\nvalue = [0, 2]'),\n",
       " Text(0.30522088353413657, 0.4722222222222222, 'gini = 0.0\\nsamples = 1\\nvalue = [1, 0]'),\n",
       " Text(0.3714859437751004, 0.5833333333333334, 'x[5] <= 0.476\\ngini = 0.464\\nsamples = 52\\nvalue = [33, 19]'),\n",
       " Text(0.3293172690763052, 0.5277777777777778, 'x[1] <= 0.641\\ngini = 0.198\\nsamples = 18\\nvalue = [16, 2]'),\n",
       " Text(0.321285140562249, 0.4722222222222222, 'gini = 0.0\\nsamples = 12\\nvalue = [12, 0]'),\n",
       " Text(0.3373493975903614, 0.4722222222222222, 'x[1] <= 0.646\\ngini = 0.444\\nsamples = 6\\nvalue = [4, 2]'),\n",
       " Text(0.3293172690763052, 0.4166666666666667, 'gini = 0.0\\nsamples = 1\\nvalue = [0, 1]'),\n",
       " Text(0.3453815261044177, 0.4166666666666667, 'x[0] <= 0.088\\ngini = 0.32\\nsamples = 5\\nvalue = [4, 1]'),\n",
       " Text(0.3373493975903614, 0.3611111111111111, 'gini = 0.0\\nsamples = 4\\nvalue = [4, 0]'),\n",
       " Text(0.3534136546184739, 0.3611111111111111, 'gini = 0.0\\nsamples = 1\\nvalue = [0, 1]'),\n",
       " Text(0.41365461847389556, 0.5277777777777778, 'x[5] <= 0.53\\ngini = 0.5\\nsamples = 34\\nvalue = [17, 17]'),\n",
       " Text(0.3855421686746988, 0.4722222222222222, 'x[3] <= 0.313\\ngini = 0.415\\nsamples = 17\\nvalue = [5, 12]'),\n",
       " Text(0.37751004016064255, 0.4166666666666667, 'x[7] <= 0.092\\ngini = 0.5\\nsamples = 10\\nvalue = [5, 5]'),\n",
       " Text(0.36947791164658633, 0.3611111111111111, 'gini = 0.0\\nsamples = 4\\nvalue = [4, 0]'),\n",
       " Text(0.3855421686746988, 0.3611111111111111, 'x[3] <= 0.288\\ngini = 0.278\\nsamples = 6\\nvalue = [1, 5]'),\n",
       " Text(0.37751004016064255, 0.3055555555555556, 'gini = 0.0\\nsamples = 5\\nvalue = [0, 5]'),\n",
       " Text(0.39357429718875503, 0.3055555555555556, 'gini = 0.0\\nsamples = 1\\nvalue = [1, 0]'),\n",
       " Text(0.39357429718875503, 0.4166666666666667, 'gini = 0.0\\nsamples = 7\\nvalue = [0, 7]'),\n",
       " Text(0.44176706827309237, 0.4722222222222222, 'x[3] <= 0.313\\ngini = 0.415\\nsamples = 17\\nvalue = [12, 5]'),\n",
       " Text(0.42570281124497994, 0.4166666666666667, 'x[0] <= 0.088\\ngini = 0.48\\nsamples = 5\\nvalue = [2, 3]'),\n",
       " Text(0.41767068273092367, 0.3611111111111111, 'x[7] <= 0.058\\ngini = 0.444\\nsamples = 3\\nvalue = [2, 1]'),\n",
       " Text(0.40963855421686746, 0.3055555555555556, 'gini = 0.0\\nsamples = 2\\nvalue = [2, 0]'),\n",
       " Text(0.42570281124497994, 0.3055555555555556, 'gini = 0.0\\nsamples = 1\\nvalue = [0, 1]'),\n",
       " Text(0.43373493975903615, 0.3611111111111111, 'gini = 0.0\\nsamples = 2\\nvalue = [0, 2]'),\n",
       " Text(0.4578313253012048, 0.4166666666666667, 'x[2] <= 0.516\\ngini = 0.278\\nsamples = 12\\nvalue = [10, 2]'),\n",
       " Text(0.4497991967871486, 0.3611111111111111, 'x[1] <= 0.58\\ngini = 0.444\\nsamples = 6\\nvalue = [4, 2]'),\n",
       " Text(0.44176706827309237, 0.3055555555555556, 'gini = 0.0\\nsamples = 1\\nvalue = [0, 1]'),\n",
       " Text(0.4578313253012048, 0.3055555555555556, 'x[3] <= 0.444\\ngini = 0.32\\nsamples = 5\\nvalue = [4, 1]'),\n",
       " Text(0.4497991967871486, 0.25, 'gini = 0.0\\nsamples = 4\\nvalue = [4, 0]'),\n",
       " Text(0.46586345381526106, 0.25, 'gini = 0.0\\nsamples = 1\\nvalue = [0, 1]'),\n",
       " Text(0.46586345381526106, 0.3611111111111111, 'gini = 0.0\\nsamples = 6\\nvalue = [6, 0]'),\n",
       " Text(0.39558232931726905, 0.6388888888888888, 'x[4] <= 0.272\\ngini = 0.32\\nsamples = 5\\nvalue = [1, 4]'),\n",
       " Text(0.38755020080321284, 0.5833333333333334, 'gini = 0.0\\nsamples = 4\\nvalue = [0, 4]'),\n",
       " Text(0.4036144578313253, 0.5833333333333334, 'gini = 0.0\\nsamples = 1\\nvalue = [1, 0]'),\n",
       " Text(0.6345381526104418, 0.75, 'x[6] <= 0.192\\ngini = 0.495\\nsamples = 122\\nvalue = [55, 67]'),\n",
       " Text(0.5602409638554217, 0.6944444444444444, 'x[7] <= 0.425\\ngini = 0.496\\nsamples = 77\\nvalue = [42, 35]'),\n",
       " Text(0.5341365461847389, 0.6388888888888888, 'x[6] <= 0.021\\ngini = 0.498\\nsamples = 60\\nvalue = [28, 32]'),\n",
       " Text(0.5261044176706827, 0.5833333333333334, 'gini = 0.0\\nsamples = 3\\nvalue = [3, 0]'),\n",
       " Text(0.5421686746987951, 0.5833333333333334, 'x[6] <= 0.144\\ngini = 0.492\\nsamples = 57\\nvalue = [25, 32]'),\n",
       " Text(0.5140562248995983, 0.5277777777777778, 'x[1] <= 0.535\\ngini = 0.475\\nsamples = 49\\nvalue = [19, 30]'),\n",
       " Text(0.4979919678714859, 0.4722222222222222, 'x[1] <= 0.53\\ngini = 0.463\\nsamples = 11\\nvalue = [7, 4]'),\n",
       " Text(0.4899598393574297, 0.4166666666666667, 'x[6] <= 0.061\\ngini = 0.5\\nsamples = 8\\nvalue = [4, 4]'),\n",
       " Text(0.4819277108433735, 0.3611111111111111, 'x[6] <= 0.044\\ngini = 0.32\\nsamples = 5\\nvalue = [4, 1]'),\n",
       " Text(0.4738955823293173, 0.3055555555555556, 'gini = 0.0\\nsamples = 1\\nvalue = [0, 1]'),\n",
       " Text(0.4899598393574297, 0.3055555555555556, 'gini = 0.0\\nsamples = 4\\nvalue = [4, 0]'),\n",
       " Text(0.4979919678714859, 0.3611111111111111, 'gini = 0.0\\nsamples = 3\\nvalue = [0, 3]'),\n",
       " Text(0.5060240963855421, 0.4166666666666667, 'gini = 0.0\\nsamples = 3\\nvalue = [3, 0]'),\n",
       " Text(0.5301204819277109, 0.4722222222222222, 'x[2] <= 0.549\\ngini = 0.432\\nsamples = 38\\nvalue = [12, 26]'),\n",
       " Text(0.5220883534136547, 0.4166666666666667, 'gini = 0.0\\nsamples = 8\\nvalue = [0, 8]'),\n",
       " Text(0.5381526104417671, 0.4166666666666667, 'x[0] <= 0.206\\ngini = 0.48\\nsamples = 30\\nvalue = [12, 18]'),\n",
       " Text(0.5301204819277109, 0.3611111111111111, 'gini = 0.0\\nsamples = 5\\nvalue = [0, 5]'),\n",
       " Text(0.5461847389558233, 0.3611111111111111, 'x[6] <= 0.07\\ngini = 0.499\\nsamples = 25\\nvalue = [12, 13]'),\n",
       " Text(0.5261044176706827, 0.3055555555555556, 'x[6] <= 0.03\\ngini = 0.245\\nsamples = 7\\nvalue = [1, 6]'),\n",
       " Text(0.5180722891566265, 0.25, 'x[5] <= 0.463\\ngini = 0.5\\nsamples = 2\\nvalue = [1, 1]'),\n",
       " Text(0.5100401606425703, 0.19444444444444445, 'gini = 0.0\\nsamples = 1\\nvalue = [0, 1]'),\n",
       " Text(0.5261044176706827, 0.19444444444444445, 'gini = 0.0\\nsamples = 1\\nvalue = [1, 0]'),\n",
       " Text(0.5341365461847389, 0.25, 'gini = 0.0\\nsamples = 5\\nvalue = [0, 5]'),\n",
       " Text(0.5662650602409639, 0.3055555555555556, 'x[7] <= 0.342\\ngini = 0.475\\nsamples = 18\\nvalue = [11, 7]'),\n",
       " Text(0.5582329317269076, 0.25, 'x[1] <= 0.575\\ngini = 0.391\\nsamples = 15\\nvalue = [11, 4]'),\n",
       " Text(0.5421686746987951, 0.19444444444444445, 'x[6] <= 0.078\\ngini = 0.444\\nsamples = 3\\nvalue = [1, 2]'),\n",
       " Text(0.5341365461847389, 0.1388888888888889, 'gini = 0.0\\nsamples = 2\\nvalue = [0, 2]'),\n",
       " Text(0.5502008032128514, 0.1388888888888889, 'gini = 0.0\\nsamples = 1\\nvalue = [1, 0]'),\n",
       " Text(0.5742971887550201, 0.19444444444444445, 'x[0] <= 0.5\\ngini = 0.278\\nsamples = 12\\nvalue = [10, 2]'),\n",
       " Text(0.5662650602409639, 0.1388888888888889, 'x[2] <= 0.697\\ngini = 0.444\\nsamples = 6\\nvalue = [4, 2]'),\n",
       " Text(0.5582329317269076, 0.08333333333333333, 'x[1] <= 0.696\\ngini = 0.444\\nsamples = 3\\nvalue = [1, 2]'),\n",
       " Text(0.5502008032128514, 0.027777777777777776, 'gini = 0.0\\nsamples = 2\\nvalue = [0, 2]'),\n",
       " Text(0.5662650602409639, 0.027777777777777776, 'gini = 0.0\\nsamples = 1\\nvalue = [1, 0]'),\n",
       " Text(0.5742971887550201, 0.08333333333333333, 'gini = 0.0\\nsamples = 3\\nvalue = [3, 0]'),\n",
       " Text(0.5823293172690763, 0.1388888888888889, 'gini = 0.0\\nsamples = 6\\nvalue = [6, 0]'),\n",
       " Text(0.5742971887550201, 0.25, 'gini = 0.0\\nsamples = 3\\nvalue = [0, 3]'),\n",
       " Text(0.570281124497992, 0.5277777777777778, 'x[3] <= 0.061\\ngini = 0.375\\nsamples = 8\\nvalue = [6, 2]'),\n",
       " Text(0.5622489959839357, 0.4722222222222222, 'x[6] <= 0.156\\ngini = 0.444\\nsamples = 3\\nvalue = [1, 2]'),\n",
       " Text(0.5542168674698795, 0.4166666666666667, 'gini = 0.0\\nsamples = 1\\nvalue = [1, 0]'),\n",
       " Text(0.570281124497992, 0.4166666666666667, 'gini = 0.0\\nsamples = 2\\nvalue = [0, 2]'),\n",
       " Text(0.5783132530120482, 0.4722222222222222, 'gini = 0.0\\nsamples = 5\\nvalue = [5, 0]'),\n",
       " Text(0.5863453815261044, 0.6388888888888888, 'x[5] <= 0.405\\ngini = 0.291\\nsamples = 17\\nvalue = [14, 3]'),\n",
       " Text(0.5783132530120482, 0.5833333333333334, 'gini = 0.0\\nsamples = 1\\nvalue = [0, 1]'),\n",
       " Text(0.5943775100401606, 0.5833333333333334, 'x[6] <= 0.025\\ngini = 0.219\\nsamples = 16\\nvalue = [14, 2]'),\n",
       " Text(0.5863453815261044, 0.5277777777777778, 'gini = 0.0\\nsamples = 1\\nvalue = [0, 1]'),\n",
       " Text(0.6024096385542169, 0.5277777777777778, 'x[4] <= 0.15\\ngini = 0.124\\nsamples = 15\\nvalue = [14, 1]'),\n",
       " Text(0.5943775100401606, 0.4722222222222222, 'gini = 0.0\\nsamples = 13\\nvalue = [13, 0]'),\n",
       " Text(0.6104417670682731, 0.4722222222222222, 'x[5] <= 0.554\\ngini = 0.5\\nsamples = 2\\nvalue = [1, 1]'),\n",
       " Text(0.6024096385542169, 0.4166666666666667, 'gini = 0.0\\nsamples = 1\\nvalue = [0, 1]'),\n",
       " Text(0.6184738955823293, 0.4166666666666667, 'gini = 0.0\\nsamples = 1\\nvalue = [1, 0]'),\n",
       " Text(0.7088353413654619, 0.6944444444444444, 'x[0] <= 0.441\\ngini = 0.411\\nsamples = 45\\nvalue = [13.0, 32.0]'),\n",
       " Text(0.6867469879518072, 0.6388888888888888, 'x[6] <= 0.379\\ngini = 0.485\\nsamples = 29\\nvalue = [12, 17]'),\n",
       " Text(0.6666666666666666, 0.5833333333333334, 'x[5] <= 0.493\\ngini = 0.499\\nsamples = 19\\nvalue = [10, 9]'),\n",
       " Text(0.6506024096385542, 0.5277777777777778, 'x[2] <= 0.582\\ngini = 0.444\\nsamples = 9\\nvalue = [3, 6]'),\n",
       " Text(0.642570281124498, 0.4722222222222222, 'x[2] <= 0.541\\ngini = 0.375\\nsamples = 4\\nvalue = [3, 1]'),\n",
       " Text(0.6345381526104418, 0.4166666666666667, 'x[6] <= 0.27\\ngini = 0.5\\nsamples = 2\\nvalue = [1, 1]'),\n",
       " Text(0.6265060240963856, 0.3611111111111111, 'gini = 0.0\\nsamples = 1\\nvalue = [1, 0]'),\n",
       " Text(0.642570281124498, 0.3611111111111111, 'gini = 0.0\\nsamples = 1\\nvalue = [0, 1]'),\n",
       " Text(0.6506024096385542, 0.4166666666666667, 'gini = 0.0\\nsamples = 2\\nvalue = [2, 0]'),\n",
       " Text(0.6586345381526104, 0.4722222222222222, 'gini = 0.0\\nsamples = 5\\nvalue = [0, 5]'),\n",
       " Text(0.6827309236947792, 0.5277777777777778, 'x[1] <= 0.563\\ngini = 0.42\\nsamples = 10\\nvalue = [7, 3]'),\n",
       " Text(0.6746987951807228, 0.4722222222222222, 'gini = 0.0\\nsamples = 4\\nvalue = [4, 0]'),\n",
       " Text(0.6907630522088354, 0.4722222222222222, 'x[5] <= 0.51\\ngini = 0.5\\nsamples = 6\\nvalue = [3, 3]'),\n",
       " Text(0.6827309236947792, 0.4166666666666667, 'gini = 0.0\\nsamples = 2\\nvalue = [2, 0]'),\n",
       " Text(0.6987951807228916, 0.4166666666666667, 'x[0] <= 0.353\\ngini = 0.375\\nsamples = 4\\nvalue = [1, 3]'),\n",
       " Text(0.6907630522088354, 0.3611111111111111, 'gini = 0.0\\nsamples = 3\\nvalue = [0, 3]'),\n",
       " Text(0.7068273092369478, 0.3611111111111111, 'gini = 0.0\\nsamples = 1\\nvalue = [1, 0]'),\n",
       " Text(0.7068273092369478, 0.5833333333333334, 'x[1] <= 0.54\\ngini = 0.32\\nsamples = 10\\nvalue = [2, 8]'),\n",
       " Text(0.6987951807228916, 0.5277777777777778, 'gini = 0.0\\nsamples = 1\\nvalue = [1, 0]'),\n",
       " Text(0.714859437751004, 0.5277777777777778, 'x[4] <= 0.226\\ngini = 0.198\\nsamples = 9\\nvalue = [1, 8]'),\n",
       " Text(0.7068273092369478, 0.4722222222222222, 'gini = 0.0\\nsamples = 7\\nvalue = [0, 7]'),\n",
       " Text(0.7228915662650602, 0.4722222222222222, 'x[7] <= 0.458\\ngini = 0.5\\nsamples = 2\\nvalue = [1, 1]'),\n",
       " Text(0.714859437751004, 0.4166666666666667, 'gini = 0.0\\nsamples = 1\\nvalue = [1, 0]'),\n",
       " Text(0.7309236947791165, 0.4166666666666667, 'gini = 0.0\\nsamples = 1\\nvalue = [0, 1]'),\n",
       " Text(0.7309236947791165, 0.6388888888888888, 'x[6] <= 0.548\\ngini = 0.117\\nsamples = 16\\nvalue = [1, 15]'),\n",
       " Text(0.7228915662650602, 0.5833333333333334, 'gini = 0.0\\nsamples = 15\\nvalue = [0, 15]'),\n",
       " Text(0.7389558232931727, 0.5833333333333334, 'gini = 0.0\\nsamples = 1\\nvalue = [1, 0]'),\n",
       " Text(0.8943273092369478, 0.9166666666666666, 'x[1] <= 0.776\\ngini = 0.416\\nsamples = 159\\nvalue = [47.0, 112.0]'),\n",
       " Text(0.8293172690763052, 0.8611111111111112, 'x[7] <= 0.408\\ngini = 0.5\\nsamples = 50\\nvalue = [25, 25]'),\n",
       " Text(0.7911646586345381, 0.8055555555555556, 'x[0] <= 0.382\\ngini = 0.478\\nsamples = 38\\nvalue = [23, 15]'),\n",
       " Text(0.7710843373493976, 0.75, 'x[2] <= 0.23\\ngini = 0.4\\nsamples = 29\\nvalue = [21, 8]'),\n",
       " Text(0.7630522088353414, 0.6944444444444444, 'gini = 0.0\\nsamples = 2\\nvalue = [0, 2]'),\n",
       " Text(0.7791164658634538, 0.6944444444444444, 'x[4] <= 0.361\\ngini = 0.346\\nsamples = 27\\nvalue = [21, 6]'),\n",
       " Text(0.7630522088353414, 0.6388888888888888, 'x[7] <= 0.008\\ngini = 0.278\\nsamples = 24\\nvalue = [20, 4]'),\n",
       " Text(0.7550200803212851, 0.5833333333333334, 'gini = 0.0\\nsamples = 1\\nvalue = [0, 1]'),\n",
       " Text(0.7710843373493976, 0.5833333333333334, 'x[1] <= 0.736\\ngini = 0.227\\nsamples = 23\\nvalue = [20, 3]'),\n",
       " Text(0.7630522088353414, 0.5277777777777778, 'x[6] <= 0.108\\ngini = 0.42\\nsamples = 10\\nvalue = [7, 3]'),\n",
       " Text(0.7550200803212851, 0.4722222222222222, 'gini = 0.0\\nsamples = 4\\nvalue = [4, 0]'),\n",
       " Text(0.7710843373493976, 0.4722222222222222, 'x[6] <= 0.205\\ngini = 0.5\\nsamples = 6\\nvalue = [3, 3]'),\n",
       " Text(0.7630522088353414, 0.4166666666666667, 'gini = 0.0\\nsamples = 3\\nvalue = [0, 3]'),\n",
       " Text(0.7791164658634538, 0.4166666666666667, 'gini = 0.0\\nsamples = 3\\nvalue = [3, 0]'),\n",
       " Text(0.7791164658634538, 0.5277777777777778, 'gini = 0.0\\nsamples = 13\\nvalue = [13, 0]'),\n",
       " Text(0.7951807228915663, 0.6388888888888888, 'x[1] <= 0.756\\ngini = 0.444\\nsamples = 3\\nvalue = [1, 2]'),\n",
       " Text(0.7871485943775101, 0.5833333333333334, 'gini = 0.0\\nsamples = 2\\nvalue = [0, 2]'),\n",
       " Text(0.8032128514056225, 0.5833333333333334, 'gini = 0.0\\nsamples = 1\\nvalue = [1, 0]'),\n",
       " Text(0.8112449799196787, 0.75, 'x[2] <= 0.557\\ngini = 0.346\\nsamples = 9\\nvalue = [2, 7]'),\n",
       " Text(0.8032128514056225, 0.6944444444444444, 'gini = 0.0\\nsamples = 1\\nvalue = [1, 0]'),\n",
       " Text(0.8192771084337349, 0.6944444444444444, 'x[7] <= 0.383\\ngini = 0.219\\nsamples = 8\\nvalue = [1, 7]'),\n",
       " Text(0.8112449799196787, 0.6388888888888888, 'gini = 0.0\\nsamples = 7\\nvalue = [0, 7]'),\n",
       " Text(0.8273092369477911, 0.6388888888888888, 'gini = 0.0\\nsamples = 1\\nvalue = [1, 0]'),\n",
       " Text(0.8674698795180723, 0.8055555555555556, 'x[0] <= 0.676\\ngini = 0.278\\nsamples = 12\\nvalue = [2, 10]'),\n",
       " Text(0.8594377510040161, 0.75, 'x[6] <= 0.063\\ngini = 0.165\\nsamples = 11\\nvalue = [1, 10]'),\n",
       " Text(0.8514056224899599, 0.6944444444444444, 'x[0] <= 0.324\\ngini = 0.5\\nsamples = 2\\nvalue = [1, 1]'),\n",
       " Text(0.8433734939759037, 0.6388888888888888, 'gini = 0.0\\nsamples = 1\\nvalue = [1, 0]'),\n",
       " Text(0.8594377510040161, 0.6388888888888888, 'gini = 0.0\\nsamples = 1\\nvalue = [0, 1]'),\n",
       " Text(0.8674698795180723, 0.6944444444444444, 'gini = 0.0\\nsamples = 9\\nvalue = [0, 9]'),\n",
       " Text(0.8755020080321285, 0.75, 'gini = 0.0\\nsamples = 1\\nvalue = [1, 0]'),\n",
       " Text(0.9593373493975904, 0.8611111111111112, 'x[7] <= 0.692\\ngini = 0.322\\nsamples = 109\\nvalue = [22, 87]'),\n",
       " Text(0.9347389558232931, 0.8055555555555556, 'x[4] <= 0.643\\ngini = 0.286\\nsamples = 104\\nvalue = [18, 86]'),\n",
       " Text(0.9096385542168675, 0.75, 'x[6] <= 0.095\\ngini = 0.257\\nsamples = 99\\nvalue = [15, 84]'),\n",
       " Text(0.8835341365461847, 0.6944444444444444, 'x[6] <= 0.09\\ngini = 0.412\\nsamples = 31\\nvalue = [9, 22]'),\n",
       " Text(0.8755020080321285, 0.6388888888888888, 'x[1] <= 0.912\\ngini = 0.366\\nsamples = 29\\nvalue = [7, 22]'),\n",
       " Text(0.8674698795180723, 0.5833333333333334, 'x[7] <= 0.542\\ngini = 0.444\\nsamples = 21\\nvalue = [7, 14]'),\n",
       " Text(0.8594377510040161, 0.5277777777777778, 'x[7] <= 0.275\\ngini = 0.388\\nsamples = 19\\nvalue = [5, 14]'),\n",
       " Text(0.8514056224899599, 0.4722222222222222, 'x[6] <= 0.038\\ngini = 0.5\\nsamples = 10\\nvalue = [5, 5]'),\n",
       " Text(0.8433734939759037, 0.4166666666666667, 'gini = 0.0\\nsamples = 2\\nvalue = [2, 0]'),\n",
       " Text(0.8594377510040161, 0.4166666666666667, 'x[1] <= 0.884\\ngini = 0.469\\nsamples = 8\\nvalue = [3, 5]'),\n",
       " Text(0.8514056224899599, 0.3611111111111111, 'x[3] <= 0.384\\ngini = 0.278\\nsamples = 6\\nvalue = [1, 5]'),\n",
       " Text(0.8433734939759037, 0.3055555555555556, 'gini = 0.0\\nsamples = 5\\nvalue = [0, 5]'),\n",
       " Text(0.8594377510040161, 0.3055555555555556, 'gini = 0.0\\nsamples = 1\\nvalue = [1, 0]'),\n",
       " Text(0.8674698795180723, 0.3611111111111111, 'gini = 0.0\\nsamples = 2\\nvalue = [2, 0]'),\n",
       " Text(0.8674698795180723, 0.4722222222222222, 'gini = 0.0\\nsamples = 9\\nvalue = [0, 9]'),\n",
       " Text(0.8755020080321285, 0.5277777777777778, 'gini = 0.0\\nsamples = 2\\nvalue = [2, 0]'),\n",
       " Text(0.8835341365461847, 0.5833333333333334, 'gini = 0.0\\nsamples = 8\\nvalue = [0, 8]'),\n",
       " Text(0.891566265060241, 0.6388888888888888, 'gini = 0.0\\nsamples = 2\\nvalue = [2, 0]'),\n",
       " Text(0.9357429718875502, 0.6944444444444444, 'x[2] <= 0.754\\ngini = 0.161\\nsamples = 68\\nvalue = [6, 62]'),\n",
       " Text(0.9156626506024096, 0.6388888888888888, 'x[7] <= 0.45\\ngini = 0.117\\nsamples = 64\\nvalue = [4, 60]'),\n",
       " Text(0.8995983935742972, 0.5833333333333334, 'x[2] <= 0.418\\ngini = 0.039\\nsamples = 50\\nvalue = [1, 49]'),\n",
       " Text(0.891566265060241, 0.5277777777777778, 'x[4] <= 0.316\\ngini = 0.444\\nsamples = 3\\nvalue = [1, 2]'),\n",
       " Text(0.8835341365461847, 0.4722222222222222, 'gini = 0.0\\nsamples = 2\\nvalue = [0, 2]'),\n",
       " Text(0.8995983935742972, 0.4722222222222222, 'gini = 0.0\\nsamples = 1\\nvalue = [1, 0]'),\n",
       " Text(0.9076305220883534, 0.5277777777777778, 'gini = 0.0\\nsamples = 47\\nvalue = [0, 47]'),\n",
       " Text(0.9317269076305221, 0.5833333333333334, 'x[0] <= 0.088\\ngini = 0.337\\nsamples = 14\\nvalue = [3, 11]'),\n",
       " Text(0.9236947791164659, 0.5277777777777778, 'gini = 0.0\\nsamples = 2\\nvalue = [2, 0]'),\n",
       " Text(0.9397590361445783, 0.5277777777777778, 'x[2] <= 0.566\\ngini = 0.153\\nsamples = 12\\nvalue = [1, 11]'),\n",
       " Text(0.9317269076305221, 0.4722222222222222, 'x[0] <= 0.412\\ngini = 0.5\\nsamples = 2\\nvalue = [1, 1]'),\n",
       " Text(0.9236947791164659, 0.4166666666666667, 'gini = 0.0\\nsamples = 1\\nvalue = [1, 0]'),\n",
       " Text(0.9397590361445783, 0.4166666666666667, 'gini = 0.0\\nsamples = 1\\nvalue = [0, 1]'),\n",
       " Text(0.9477911646586346, 0.4722222222222222, 'gini = 0.0\\nsamples = 10\\nvalue = [0, 10]'),\n",
       " Text(0.9558232931726908, 0.6388888888888888, 'x[1] <= 0.889\\ngini = 0.5\\nsamples = 4\\nvalue = [2, 2]'),\n",
       " Text(0.9477911646586346, 0.5833333333333334, 'gini = 0.0\\nsamples = 1\\nvalue = [0, 1]'),\n",
       " Text(0.963855421686747, 0.5833333333333334, 'x[6] <= 0.205\\ngini = 0.444\\nsamples = 3\\nvalue = [2, 1]'),\n",
       " Text(0.9558232931726908, 0.5277777777777778, 'gini = 0.0\\nsamples = 1\\nvalue = [0, 1]'),\n",
       " Text(0.9718875502008032, 0.5277777777777778, 'gini = 0.0\\nsamples = 2\\nvalue = [2, 0]'),\n",
       " Text(0.9598393574297188, 0.75, 'x[2] <= 0.566\\ngini = 0.48\\nsamples = 5\\nvalue = [3, 2]'),\n",
       " Text(0.9518072289156626, 0.6944444444444444, 'gini = 0.0\\nsamples = 2\\nvalue = [0, 2]'),\n",
       " Text(0.9678714859437751, 0.6944444444444444, 'gini = 0.0\\nsamples = 3\\nvalue = [3, 0]'),\n",
       " Text(0.9839357429718876, 0.8055555555555556, 'x[5] <= 0.458\\ngini = 0.32\\nsamples = 5\\nvalue = [4, 1]'),\n",
       " Text(0.9759036144578314, 0.75, 'gini = 0.0\\nsamples = 4\\nvalue = [4, 0]'),\n",
       " Text(0.9919678714859438, 0.75, 'gini = 0.0\\nsamples = 1\\nvalue = [0, 1]')]"
      ]
     },
     "execution_count": 17,
     "metadata": {},
     "output_type": "execute_result"
    },
    {
     "data": {
      "image/png": "[encoded data removed]",
      "text/plain": [
       "<Figure size 640x480 with 1 Axes>"
      ]
     },
     "metadata": {},
     "output_type": "display_data"
    }
   ],
   "source": [
    "tree.plot_tree(clf)"
   ]
  },
  {
   "cell_type": "code",
   "execution_count": null,
   "metadata": {},
   "outputs": [],
   "source": []
  },
  {
   "cell_type": "code",
   "execution_count": null,
   "metadata": {},
   "outputs": [],
   "source": []
  },
  {
   "cell_type": "code",
   "execution_count": null,
   "metadata": {},
   "outputs": [],
   "source": []
  },
  {
   "cell_type": "code",
   "execution_count": null,
   "metadata": {},
   "outputs": [],
   "source": []
  }
 ],
 "metadata": {
  "colab": {
   "provenance": [
    {
     "file_id": "1xocfAfxPpSUVNskDOHEKqbGVkTELSutl",
     "timestamp": 1676283949223
    }
   ]
  },
  "kernelspec": {
   "display_name": "Python 3 (ipykernel)",
   "language": "python",
   "name": "python3"
  },
  "language_info": {
   "codemirror_mode": {
    "name": "ipython",
    "version": 3
   },
   "file_extension": ".py",
   "mimetype": "text/x-python",
   "name": "python",
   "nbconvert_exporter": "python",
   "pygments_lexer": "ipython3",
   "version": "3.12.4"
  }
 },
 "nbformat": 4,
 "nbformat_minor": 4
}
