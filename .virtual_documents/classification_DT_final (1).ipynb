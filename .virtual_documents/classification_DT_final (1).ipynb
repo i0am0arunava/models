





from google.colab import drive
drive.mount('/content/drive')
%cd drive/MyDrive


!ls


from scipy.io import loadmat
#path="/content/drive/MyDrive/UEM/AIML LAB/Classification/"
path=""
data = loadmat(path+'pima_dataset.mat')
X=data['norm_data']
y=data['target']
X.shape





import numpy as np
import math
from sklearn.model_selection import train_test_split
from sklearn import datasets
from sklearn.model_selection import cross_val_score
from sklearn.model_selection import KFold


from sklearn import tree


from sklearn.metrics import *





def classification_performance(conf_matrix):
    accureacy=(conf_matrix[0][0]+conf_matrix[1][1])/(conf_matrix[0][0]+conf_matrix[0][1]+conf_matrix[1][0]+conf_matrix[1][1])
    recall=(conf_matrix[0][0])/(conf_matrix[0][0]+conf_matrix[1][0])
    specificity=(conf_matrix[1][1])/(conf_matrix[0][1]+conf_matrix[1][1])
    precision=(conf_matrix[0][0])/(conf_matrix[0][0]+conf_matrix[0][1])
    F1_score=(2*precision*recall)/(precision+recall)
    GM=math.sqrt(recall*specificity)
    FPR=1-specificity
    return accureacy,recall,specificity,precision,F1_score,GM,FPR


k=10;
kf = KFold(n_splits=10)
acc=np.zeros(k,float)
recall=np.zeros(k,float)
spec=np.zeros(k,float)
precision=np.zeros(k,float)
F1=np.zeros(k,float)
GM=np.zeros(k,float)
FPR=np.zeros(k,float)
iter=0;
for train, test in kf.split(X):
    
    print("Fold:%d" % (iter))
    #print("%s %s" % (train, test))
    X_train=X[train]
    y_train=y[train]
    X_test=X[test]
    y_test=y[test]
    hidden_nodes=X_train.shape[1]
    clf = tree.DecisionTreeClassifier()
    clf.fit(X_train, y_train)
    y_pred=clf.predict(X_test)
    conf_matrix=confusion_matrix(y_test, y_pred)
    acc[iter], recall[iter], spec[iter], precision[iter], F1[iter], GM[iter], FPR[iter]=classification_performance(conf_matrix)
    print("Accuracy: %0.2f, Recall=%0.2f, specificity=%0.2f, precision=%0.2f, F1=%0.2f, GM=%0.2f, FPR=%0.2f" % (acc[iter], recall[iter], spec[iter], precision[iter], F1[iter], GM[iter], FPR[iter]))
    iter=iter+1
print('=======================================AVERAGE OVER K-FOLD===================================')
print("Accuracy: %0.2f, Recall=%0.2f, specificity=%0.2f, precision=%0.2f, F1=%0.2f, GM=%0.2f, FPR=%0.2f" % (acc.mean(), recall.mean(), spec.mean(), precision.mean(), F1.mean(), GM.mean(), FPR.mean()))  


conf_matrix


tree.plot_tree(clf)






