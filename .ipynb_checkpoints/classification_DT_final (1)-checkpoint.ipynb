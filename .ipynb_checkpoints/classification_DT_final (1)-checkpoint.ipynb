{
 "cells": [
  {
   "cell_type": "markdown",
   "metadata": {
    "id": "TAKGHX2jCkrQ"
   },
   "source": [
    "# Medical data classification using Decision Tree"
   ]
  },
  {
   "cell_type": "markdown",
   "metadata": {
    "id": "BegYe7AbCkrY"
   },
   "source": [
    "# Load dataset"
   ]
  },
  {
   "cell_type": "code",
   "execution_count": 1,
   "metadata": {
    "colab": {
     "base_uri": "https://localhost:8080/"
    },
    "executionInfo": {
     "elapsed": 31357,
     "status": "ok",
     "timestamp": 1676366421077,
     "user": {
      "displayName": "Dr. Tapas Si",
      "userId": "04957223306100746105"
     },
     "user_tz": -330
    },
    "id": "pXIVCO3ZEXRI",
    "outputId": "18d4e17c-f161-492e-c648-3ca8daeecde0"
   },
   "outputs": [
    {
     "name": "stdout",
     "output_type": "stream",
     "text": [
      "Mounted at /content/drive\n",
      "/content/drive/MyDrive\n"
     ]
    }
   ],
   "source": [
    "from google.colab import drive\n",
    "drive.mount('/content/drive')\n",
    "%cd drive/MyDrive"
   ]
  },
  {
   "cell_type": "code",
   "execution_count": 2,
   "metadata": {
    "colab": {
     "base_uri": "https://localhost:8080/"
    },
    "executionInfo": {
     "elapsed": 23,
     "status": "ok",
     "timestamp": 1676366421078,
     "user": {
      "displayName": "Dr. Tapas Si",
      "userId": "04957223306100746105"
     },
     "user_tz": -330
    },
    "id": "e1RNWHl2EuZq",
    "outputId": "e8841a42-1495-40f9-ccc0-f41a71acd701"
   },
   "outputs": [
    {
     "name": "stdout",
     "output_type": "stream",
     "text": [
      "'3rd Year.gform'\n",
      " AI\n",
      " AIML-3.gform\n",
      " AIML-4.gform\n",
      "' AIML-5.gform'\n",
      " AIML-6.gform\n",
      "'AIML - 7.gform'\n",
      " AIML-8.gform\n",
      "' AIML-9.gform'\n",
      " Classroom\n",
      "'Colab Notebooks'\n",
      "'Computer Science Book'\n",
      " CSD813_DMDW_4th_Year_CSE.docx\n",
      " CSP604_AIML_3rd_Year_CSE.docx\n",
      " CSP604-B-1.gform\n",
      " CSP605-A-1.gform\n",
      " CSP605-A-2.gform\n",
      " CSP605_AIML_3rd_Year_CSE.docx\n",
      "'Data Mining & Data Warehouse - 2.gform'\n",
      "'Data Mining & Data Warehouse - 3.gform'\n",
      "'Data Mining & Data Warehouse - 3 (Responses).gsheet'\n",
      "' Data Mining & Data Warehouse - 5.gform'\n",
      "' Data Mining & Data Warehouse - 6.gform'\n",
      "' Data Mining & Data Warehouse -7.gform'\n",
      "'Data Mining & Data Warehouse -8.gform'\n",
      "'Data Mining & Data Warehouse -9.gform'\n",
      "'Data Mining & Data Warehouse.gform'\n",
      " ebook\n",
      "'final spbo code.zip'\n",
      "'Image Registration'\n",
      "'Information Theory'\n",
      " Job\n",
      "'Machine Learning'\n",
      " Misc\n",
      "'My Docs'\n",
      " Personal\n",
      " POFWA\n",
      " Python\n",
      " Research\n",
      " Review\n",
      " UEM\n",
      "'Untitled form.gform'\n"
     ]
    }
   ],
   "source": [
    "!ls"
   ]
  },
  {
   "cell_type": "code",
   "execution_count": 6,
   "metadata": {
    "colab": {
     "base_uri": "https://localhost:8080/"
    },
    "executionInfo": {
     "elapsed": 2453,
     "status": "ok",
     "timestamp": 1676366423520,
     "user": {
      "displayName": "Dr. Tapas Si",
      "userId": "04957223306100746105"
     },
     "user_tz": -330
    },
    "id": "Cj2Jb_ZTCkrZ",
    "outputId": "eeb8fbf8-3617-42ab-cc65-7208e05b25b4"
   },
   "outputs": [
    {
     "data": {
      "text/plain": [
       "(768, 8)"
      ]
     },
     "execution_count": 6,
     "metadata": {},
     "output_type": "execute_result"
    }
   ],
   "source": [
    "from scipy.io import loadmat\n",
    "#path=\"/content/drive/MyDrive/UEM/AIML LAB/Classification/\"\n",
    "path=\"\"\n",
    "data = loadmat(path+'pima_dataset.mat')\n",
    "X=data['norm_data']\n",
    "y=data['target']\n",
    "X.shape"
   ]
  },
  {
   "cell_type": "code",
   "execution_count": null,
   "metadata": {
    "executionInfo": {
     "elapsed": 9,
     "status": "ok",
     "timestamp": 1676366423520,
     "user": {
      "displayName": "Dr. Tapas Si",
      "userId": "04957223306100746105"
     },
     "user_tz": -330
    },
    "id": "o4kljmESCx9J"
   },
   "outputs": [],
   "source": []
  },
  {
   "cell_type": "code",
   "execution_count": 9,
   "metadata": {
    "executionInfo": {
     "elapsed": 1707,
     "status": "ok",
     "timestamp": 1676366425221,
     "user": {
      "displayName": "Dr. Tapas Si",
      "userId": "04957223306100746105"
     },
     "user_tz": -330
    },
    "id": "t4xD0NNbCkrc"
   },
   "outputs": [],
   "source": [
    "import numpy as np\n",
    "import math\n",
    "from sklearn.model_selection import train_test_split\n",
    "from sklearn import datasets\n",
    "from sklearn.model_selection import cross_val_score\n",
    "from sklearn.model_selection import KFold"
   ]
  },
  {
   "cell_type": "code",
   "execution_count": 10,
   "metadata": {
    "executionInfo": {
     "elapsed": 41,
     "status": "ok",
     "timestamp": 1676366425222,
     "user": {
      "displayName": "Dr. Tapas Si",
      "userId": "04957223306100746105"
     },
     "user_tz": -330
    },
    "id": "smCr9EKACkrd"
   },
   "outputs": [],
   "source": [
    "from sklearn import tree"
   ]
  },
  {
   "cell_type": "code",
   "execution_count": 12,
   "metadata": {
    "executionInfo": {
     "elapsed": 41,
     "status": "ok",
     "timestamp": 1676366425223,
     "user": {
      "displayName": "Dr. Tapas Si",
      "userId": "04957223306100746105"
     },
     "user_tz": -330
    },
    "id": "5Qz7jQfFCkrd"
   },
   "outputs": [],
   "source": []
  },
  {
   "cell_type": "markdown",
   "metadata": {
    "id": "llcnuVJXCkre"
   },
   "source": [
    "# Classification performance measure function"
   ]
  },
  {
   "cell_type": "code",
   "execution_count": 16,
   "metadata": {
    "executionInfo": {
     "elapsed": 40,
     "status": "ok",
     "timestamp": 1676366425223,
     "user": {
      "displayName": "Dr. Tapas Si",
      "userId": "04957223306100746105"
     },
     "user_tz": -330
    },
    "id": "UJaDmThQCkrf"
   },
   "outputs": [],
   "source": [
    "def classification_performance(conf_matrix):\n",
    "    accureacy=(conf_matrix[0][0]+conf_matrix[1][1])/(conf_matrix[0][0]+conf_matrix[0][1]+conf_matrix[1][0]+conf_matrix[1][1])\n",
    "    recall=(conf_matrix[0][0])/(conf_matrix[0][0]+conf_matrix[1][0])\n",
    "    specificity=(conf_matrix[1][1])/(conf_matrix[0][1]+conf_matrix[1][1])\n",
    "    precision=(conf_matrix[0][0])/(conf_matrix[0][0]+conf_matrix[0][1])\n",
    "    F1_score=(2*precision*recall)/(precision+recall)\n",
    "    GM=math.sqrt(recall*specificity)\n",
    "    FPR=1-specificity\n",
    "    return accureacy,recall,specificity,precision,F1_score,GM,FPR"
   ]
  },
  {
   "cell_type": "code",
   "execution_count": 18,
   "metadata": {
    "colab": {
     "base_uri": "https://localhost:8080/"
    },
    "executionInfo": {
     "elapsed": 40,
     "status": "ok",
     "timestamp": 1676366425224,
     "user": {
      "displayName": "Dr. Tapas Si",
      "userId": "04957223306100746105"
     },
     "user_tz": -330
    },
    "id": "p49fVoE5Ckrg",
    "outputId": "44495b56-5c6c-4db7-bcdb-48deebdf1f11"
   },
   "outputs": [
    {
     "name": "stdout",
     "output_type": "stream",
     "text": [
      "Fold:0\n",
      "Accuracy: 0.64, Recall=0.69, specificity=0.56, precision=0.69, F1=0.69, GM=0.62, FPR=0.44\n",
      "Fold:1\n",
      "Accuracy: 0.77, Recall=0.82, specificity=0.60, precision=0.85, F1=0.84, GM=0.70, FPR=0.40\n",
      "Fold:2\n",
      "Accuracy: 0.64, Recall=0.68, specificity=0.58, precision=0.65, F1=0.67, GM=0.63, FPR=0.42\n",
      "Fold:3\n",
      "Accuracy: 0.62, Recall=0.70, specificity=0.52, precision=0.68, F1=0.69, GM=0.60, FPR=0.48\n",
      "Fold:4\n",
      "Accuracy: 0.65, Recall=0.72, specificity=0.50, precision=0.76, F1=0.74, GM=0.60, FPR=0.50\n",
      "Fold:5\n",
      "Accuracy: 0.69, Recall=0.73, specificity=0.62, precision=0.79, F1=0.76, GM=0.67, FPR=0.38\n",
      "Fold:6\n",
      "Accuracy: 0.77, Recall=0.91, specificity=0.41, precision=0.79, F1=0.85, GM=0.61, FPR=0.59\n",
      "Fold:7\n",
      "Accuracy: 0.78, Recall=0.83, specificity=0.67, precision=0.85, F1=0.84, GM=0.74, FPR=0.33\n",
      "Fold:8\n",
      "Accuracy: 0.63, Recall=0.72, specificity=0.41, precision=0.75, F1=0.74, GM=0.54, FPR=0.59\n",
      "Fold:9\n",
      "Accuracy: 0.68, Recall=0.73, specificity=0.61, precision=0.76, F1=0.74, GM=0.67, FPR=0.39\n",
      "=======================================AVERAGE OVER K-FOLD===================================\n",
      "Accuracy: 0.69, Recall=0.75, specificity=0.55, precision=0.76, F1=0.75, GM=0.64, FPR=0.45\n"
     ]
    }
   ],
   "source": [
    "k=10;\n",
    "kf = KFold(n_splits=10)\n",
    "acc=np.zeros(k,float)\n",
    "recall=np.zeros(k,float)\n",
    "spec=np.zeros(k,float)\n",
    "precision=np.zeros(k,float)\n",
    "F1=np.zeros(k,float)\n",
    "GM=np.zeros(k,float)\n",
    "FPR=np.zeros(k,float)\n",
    "iter=0;\n",
    "for train, test in kf.split(X):\n",
    "    \n",
    "    print(\"Fold:%d\" % (iter))\n",
    "    #print(\"%s %s\" % (train, test))\n",
    "    X_train=X[train]\n",
    "    y_train=y[train]\n",
    "    X_test=X[test]\n",
    "    y_test=y[test]\n",
    "    hidden_nodes=X_train.shape[1]\n",
    "    clf = tree.DecisionTreeClassifier()\n",
    "    clf.fit(X_train, y_train)\n",
    "    y_pred=clf.predict(X_test)\n",
    "    conf_matrix=confusion_matrix(y_test, y_pred)\n",
    "    acc[iter], recall[iter], spec[iter], precision[iter], F1[iter], GM[iter], FPR[iter]=classification_performance(conf_matrix)\n",
    "    print(\"Accuracy: %0.2f, Recall=%0.2f, specificity=%0.2f, precision=%0.2f, F1=%0.2f, GM=%0.2f, FPR=%0.2f\" % (acc[iter], recall[iter], spec[iter], precision[iter], F1[iter], GM[iter], FPR[iter]))\n",
    "    iter=iter+1\n",
    "print('=======================================AVERAGE OVER K-FOLD===================================')\n",
    "print(\"Accuracy: %0.2f, Recall=%0.2f, specificity=%0.2f, precision=%0.2f, F1=%0.2f, GM=%0.2f, FPR=%0.2f\" % (acc.mean(), recall.mean(), spec.mean(), precision.mean(), F1.mean(), GM.mean(), FPR.mean()))  "
   ]
  },
  {
   "cell_type": "code",
   "execution_count": 20,
   "metadata": {
    "colab": {
     "base_uri": "https://localhost:8080/"
    },
    "executionInfo": {
     "elapsed": 38,
     "status": "ok",
     "timestamp": 1676366425225,
     "user": {
      "displayName": "Dr. Tapas Si",
      "userId": "04957223306100746105"
     },
     "user_tz": -330
    },
    "id": "emddjqKaCkrh",
    "outputId": "fc7dc526-dc25-4e57-d692-01fa9a49d987"
   },
   "outputs": [
    {
     "data": {
      "text/plain": [
       "array([[35, 11],\n",
       "       [13, 17]], dtype=int64)"
      ]
     },
     "execution_count": 20,
     "metadata": {},
     "output_type": "execute_result"
    }
   ],
   "source": [
    "conf_matrix"
   ]
  },
  {
   "cell_type": "code",
   "execution_count": 22,
   "metadata": {
    "colab": {
     "base_uri": "https://localhost:8080/",
     "height": 1000
    },
    "executionInfo": {
     "elapsed": 6995,
     "status": "ok",
     "timestamp": 1676366432185,
     "user": {
      "displayName": "Dr. Tapas Si",
      "userId": "04957223306100746105"
     },
     "user_tz": -330
    },
    "id": "kHfiHbQGVKzb",
    "outputId": "3d7843ac-2af9-473b-f969-56a544afed51"
   },
   "outputs": [
    {
     "data": {
      "text/plain": [
       "[Text(0.5426720727848101, 0.9705882352941176, 'x[1] <= 0.721\\ngini = 0.451\\nsamples = 692\\nvalue = [454.0, 238.0]'),\n",
       " Text(0.1963673523206751, 0.9117647058823529, 'x[5] <= 0.402\\ngini = 0.361\\nsamples = 533\\nvalue = [407, 126]'),\n",
       " Text(0.06751054852320675, 0.8529411764705882, 'x[1] <= 0.626\\ngini = 0.075\\nsamples = 154\\nvalue = [148, 6]'),\n",
       " Text(0.03375527426160337, 0.7941176470588235, 'x[5] <= 0.394\\ngini = 0.031\\nsamples = 127\\nvalue = [125, 2]'),\n",
       " Text(0.016877637130801686, 0.7352941176470589, 'x[6] <= 0.255\\ngini = 0.017\\nsamples = 119\\nvalue = [118, 1]'),\n",
       " Text(0.008438818565400843, 0.6764705882352942, 'gini = 0.0\\nsamples = 99\\nvalue = [99, 0]'),\n",
       " Text(0.02531645569620253, 0.6764705882352942, 'x[6] <= 0.268\\ngini = 0.095\\nsamples = 20\\nvalue = [19, 1]'),\n",
       " Text(0.016877637130801686, 0.6176470588235294, 'gini = 0.0\\nsamples = 1\\nvalue = [0, 1]'),\n",
       " Text(0.03375527426160337, 0.6176470588235294, 'gini = 0.0\\nsamples = 19\\nvalue = [19, 0]'),\n",
       " Text(0.05063291139240506, 0.7352941176470589, 'x[3] <= 0.217\\ngini = 0.219\\nsamples = 8\\nvalue = [7, 1]'),\n",
       " Text(0.04219409282700422, 0.6764705882352942, 'gini = 0.0\\nsamples = 6\\nvalue = [6, 0]'),\n",
       " Text(0.05907172995780591, 0.6764705882352942, 'x[0] <= 0.235\\ngini = 0.5\\nsamples = 2\\nvalue = [1, 1]'),\n",
       " Text(0.05063291139240506, 0.6176470588235294, 'gini = 0.0\\nsamples = 1\\nvalue = [1, 0]'),\n",
       " Text(0.06751054852320675, 0.6176470588235294, 'gini = 0.0\\nsamples = 1\\nvalue = [0, 1]'),\n",
       " Text(0.10126582278481013, 0.7941176470588235, 'x[0] <= 0.147\\ngini = 0.252\\nsamples = 27\\nvalue = [23, 4]'),\n",
       " Text(0.09282700421940929, 0.7352941176470589, 'gini = 0.0\\nsamples = 14\\nvalue = [14, 0]'),\n",
       " Text(0.10970464135021098, 0.7352941176470589, 'x[2] <= 0.598\\ngini = 0.426\\nsamples = 13\\nvalue = [9, 4]'),\n",
       " Text(0.09282700421940929, 0.6764705882352942, 'x[5] <= 0.371\\ngini = 0.48\\nsamples = 5\\nvalue = [2, 3]'),\n",
       " Text(0.08438818565400844, 0.6176470588235294, 'x[7] <= 0.608\\ngini = 0.444\\nsamples = 3\\nvalue = [2, 1]'),\n",
       " Text(0.0759493670886076, 0.5588235294117647, 'gini = 0.0\\nsamples = 2\\nvalue = [2, 0]'),\n",
       " Text(0.09282700421940929, 0.5588235294117647, 'gini = 0.0\\nsamples = 1\\nvalue = [0, 1]'),\n",
       " Text(0.10126582278481013, 0.6176470588235294, 'gini = 0.0\\nsamples = 2\\nvalue = [0, 2]'),\n",
       " Text(0.12658227848101267, 0.6764705882352942, 'x[1] <= 0.631\\ngini = 0.219\\nsamples = 8\\nvalue = [7, 1]'),\n",
       " Text(0.11814345991561181, 0.6176470588235294, 'gini = 0.0\\nsamples = 1\\nvalue = [0, 1]'),\n",
       " Text(0.1350210970464135, 0.6176470588235294, 'gini = 0.0\\nsamples = 7\\nvalue = [7, 0]'),\n",
       " Text(0.3252241561181435, 0.8529411764705882, 'x[1] <= 0.5\\ngini = 0.433\\nsamples = 379\\nvalue = [259.0, 120.0]'),\n",
       " Text(0.17932489451476794, 0.7941176470588235, 'x[7] <= 0.075\\ngini = 0.208\\nsamples = 119\\nvalue = [105, 14]'),\n",
       " Text(0.1518987341772152, 0.7352941176470589, 'x[2] <= 0.684\\ngini = 0.033\\nsamples = 59\\nvalue = [58, 1]'),\n",
       " Text(0.14345991561181434, 0.6764705882352942, 'gini = 0.0\\nsamples = 55\\nvalue = [55, 0]'),\n",
       " Text(0.16033755274261605, 0.6764705882352942, 'x[4] <= 0.045\\ngini = 0.375\\nsamples = 4\\nvalue = [3, 1]'),\n",
       " Text(0.1518987341772152, 0.6176470588235294, 'gini = 0.0\\nsamples = 1\\nvalue = [0, 1]'),\n",
       " Text(0.16877637130801687, 0.6176470588235294, 'gini = 0.0\\nsamples = 3\\nvalue = [3, 0]'),\n",
       " Text(0.20675105485232068, 0.7352941176470589, 'x[1] <= 0.143\\ngini = 0.339\\nsamples = 60\\nvalue = [47, 13]'),\n",
       " Text(0.19831223628691982, 0.6764705882352942, 'gini = 0.0\\nsamples = 2\\nvalue = [0, 2]'),\n",
       " Text(0.21518987341772153, 0.6764705882352942, 'x[4] <= 0.102\\ngini = 0.307\\nsamples = 58\\nvalue = [47, 11]'),\n",
       " Text(0.18565400843881857, 0.6176470588235294, 'x[6] <= 0.446\\ngini = 0.215\\nsamples = 49\\nvalue = [43, 6]'),\n",
       " Text(0.17721518987341772, 0.5588235294117647, 'x[0] <= 0.559\\ngini = 0.156\\nsamples = 47\\nvalue = [43, 4]'),\n",
       " Text(0.16033755274261605, 0.5, 'x[2] <= 0.566\\ngini = 0.095\\nsamples = 40\\nvalue = [38, 2]'),\n",
       " Text(0.1518987341772152, 0.4411764705882353, 'x[4] <= 0.029\\ngini = 0.298\\nsamples = 11\\nvalue = [9, 2]'),\n",
       " Text(0.14345991561181434, 0.38235294117647056, 'x[3] <= 0.404\\ngini = 0.444\\nsamples = 6\\nvalue = [4, 2]'),\n",
       " Text(0.1350210970464135, 0.3235294117647059, 'x[1] <= 0.467\\ngini = 0.32\\nsamples = 5\\nvalue = [4, 1]'),\n",
       " Text(0.12658227848101267, 0.2647058823529412, 'gini = 0.0\\nsamples = 3\\nvalue = [3, 0]'),\n",
       " Text(0.14345991561181434, 0.2647058823529412, 'x[6] <= 0.032\\ngini = 0.5\\nsamples = 2\\nvalue = [1, 1]'),\n",
       " Text(0.1350210970464135, 0.20588235294117646, 'gini = 0.0\\nsamples = 1\\nvalue = [1, 0]'),\n",
       " Text(0.1518987341772152, 0.20588235294117646, 'gini = 0.0\\nsamples = 1\\nvalue = [0, 1]'),\n",
       " Text(0.1518987341772152, 0.3235294117647059, 'gini = 0.0\\nsamples = 1\\nvalue = [0, 1]'),\n",
       " Text(0.16033755274261605, 0.38235294117647056, 'gini = 0.0\\nsamples = 5\\nvalue = [5, 0]'),\n",
       " Text(0.16877637130801687, 0.4411764705882353, 'gini = 0.0\\nsamples = 29\\nvalue = [29, 0]'),\n",
       " Text(0.1940928270042194, 0.5, 'x[3] <= 0.273\\ngini = 0.408\\nsamples = 7\\nvalue = [5, 2]'),\n",
       " Text(0.18565400843881857, 0.4411764705882353, 'gini = 0.0\\nsamples = 4\\nvalue = [4, 0]'),\n",
       " Text(0.20253164556962025, 0.4411764705882353, 'x[5] <= 0.523\\ngini = 0.444\\nsamples = 3\\nvalue = [1, 2]'),\n",
       " Text(0.1940928270042194, 0.38235294117647056, 'gini = 0.0\\nsamples = 2\\nvalue = [0, 2]'),\n",
       " Text(0.2109704641350211, 0.38235294117647056, 'gini = 0.0\\nsamples = 1\\nvalue = [1, 0]'),\n",
       " Text(0.1940928270042194, 0.5588235294117647, 'gini = 0.0\\nsamples = 2\\nvalue = [0, 2]'),\n",
       " Text(0.24472573839662448, 0.6176470588235294, 'x[6] <= 0.173\\ngini = 0.494\\nsamples = 9\\nvalue = [4, 5]'),\n",
       " Text(0.23628691983122363, 0.5588235294117647, 'x[6] <= 0.09\\ngini = 0.444\\nsamples = 6\\nvalue = [4, 2]'),\n",
       " Text(0.22784810126582278, 0.5, 'x[0] <= 0.265\\ngini = 0.444\\nsamples = 3\\nvalue = [1, 2]'),\n",
       " Text(0.21940928270042195, 0.4411764705882353, 'gini = 0.0\\nsamples = 2\\nvalue = [0, 2]'),\n",
       " Text(0.23628691983122363, 0.4411764705882353, 'gini = 0.0\\nsamples = 1\\nvalue = [1, 0]'),\n",
       " Text(0.24472573839662448, 0.5, 'gini = 0.0\\nsamples = 3\\nvalue = [3, 0]'),\n",
       " Text(0.25316455696202533, 0.5588235294117647, 'gini = 0.0\\nsamples = 3\\nvalue = [0, 3]'),\n",
       " Text(0.471123417721519, 0.7941176470588235, 'x[7] <= 0.158\\ngini = 0.483\\nsamples = 260\\nvalue = [154, 106]'),\n",
       " Text(0.32621308016877637, 0.7352941176470589, 'x[2] <= 0.18\\ngini = 0.405\\nsamples = 138\\nvalue = [99, 39]'),\n",
       " Text(0.29641350210970463, 0.6764705882352942, 'x[6] <= 0.025\\ngini = 0.245\\nsamples = 7\\nvalue = [1, 6]'),\n",
       " Text(0.2879746835443038, 0.6176470588235294, 'gini = 0.0\\nsamples = 1\\nvalue = [1, 0]'),\n",
       " Text(0.3048523206751055, 0.6176470588235294, 'gini = 0.0\\nsamples = 6\\nvalue = [0, 6]'),\n",
       " Text(0.3560126582278481, 0.6764705882352942, 'x[5] <= 0.677\\ngini = 0.377\\nsamples = 131\\nvalue = [98, 33]'),\n",
       " Text(0.3217299578059072, 0.6176470588235294, 'x[6] <= 0.184\\ngini = 0.354\\nsamples = 126\\nvalue = [97, 29]'),\n",
       " Text(0.27848101265822783, 0.5588235294117647, 'x[1] <= 0.696\\ngini = 0.234\\nsamples = 74\\nvalue = [64, 10]'),\n",
       " Text(0.2616033755274262, 0.5, 'x[0] <= 0.441\\ngini = 0.2\\nsamples = 71\\nvalue = [63, 8]'),\n",
       " Text(0.25316455696202533, 0.4411764705882353, 'x[4] <= 0.026\\ngini = 0.18\\nsamples = 70\\nvalue = [63, 7]'),\n",
       " Text(0.23628691983122363, 0.38235294117647056, 'x[3] <= 0.399\\ngini = 0.305\\nsamples = 32\\nvalue = [26, 6]'),\n",
       " Text(0.22784810126582278, 0.3235294117647059, 'x[2] <= 0.516\\ngini = 0.271\\nsamples = 31\\nvalue = [26, 5]'),\n",
       " Text(0.2109704641350211, 0.2647058823529412, 'x[3] <= 0.157\\ngini = 0.5\\nsamples = 4\\nvalue = [2, 2]'),\n",
       " Text(0.20253164556962025, 0.20588235294117646, 'x[7] <= 0.058\\ngini = 0.444\\nsamples = 3\\nvalue = [1, 2]'),\n",
       " Text(0.1940928270042194, 0.14705882352941177, 'gini = 0.0\\nsamples = 1\\nvalue = [1, 0]'),\n",
       " Text(0.2109704641350211, 0.14705882352941177, 'gini = 0.0\\nsamples = 2\\nvalue = [0, 2]'),\n",
       " Text(0.21940928270042195, 0.20588235294117646, 'gini = 0.0\\nsamples = 1\\nvalue = [1, 0]'),\n",
       " Text(0.24472573839662448, 0.2647058823529412, 'x[2] <= 0.582\\ngini = 0.198\\nsamples = 27\\nvalue = [24, 3]'),\n",
       " Text(0.23628691983122363, 0.20588235294117646, 'gini = 0.0\\nsamples = 12\\nvalue = [12, 0]'),\n",
       " Text(0.25316455696202533, 0.20588235294117646, 'x[2] <= 0.631\\ngini = 0.32\\nsamples = 15\\nvalue = [12, 3]'),\n",
       " Text(0.24472573839662448, 0.14705882352941177, 'x[0] <= 0.147\\ngini = 0.5\\nsamples = 6\\nvalue = [3, 3]'),\n",
       " Text(0.23628691983122363, 0.08823529411764706, 'x[6] <= 0.068\\ngini = 0.375\\nsamples = 4\\nvalue = [3, 1]'),\n",
       " Text(0.22784810126582278, 0.029411764705882353, 'gini = 0.0\\nsamples = 3\\nvalue = [3, 0]'),\n",
       " Text(0.24472573839662448, 0.029411764705882353, 'gini = 0.0\\nsamples = 1\\nvalue = [0, 1]'),\n",
       " Text(0.25316455696202533, 0.08823529411764706, 'gini = 0.0\\nsamples = 2\\nvalue = [0, 2]'),\n",
       " Text(0.2616033755274262, 0.14705882352941177, 'gini = 0.0\\nsamples = 9\\nvalue = [9, 0]'),\n",
       " Text(0.24472573839662448, 0.3235294117647059, 'gini = 0.0\\nsamples = 1\\nvalue = [0, 1]'),\n",
       " Text(0.270042194092827, 0.38235294117647056, 'x[1] <= 0.668\\ngini = 0.051\\nsamples = 38\\nvalue = [37, 1]'),\n",
       " Text(0.2616033755274262, 0.3235294117647059, 'gini = 0.0\\nsamples = 35\\nvalue = [35, 0]'),\n",
       " Text(0.27848101265822783, 0.3235294117647059, 'x[2] <= 0.582\\ngini = 0.444\\nsamples = 3\\nvalue = [2, 1]'),\n",
       " Text(0.270042194092827, 0.2647058823529412, 'gini = 0.0\\nsamples = 1\\nvalue = [0, 1]'),\n",
       " Text(0.2869198312236287, 0.2647058823529412, 'gini = 0.0\\nsamples = 2\\nvalue = [2, 0]'),\n",
       " Text(0.270042194092827, 0.4411764705882353, 'gini = 0.0\\nsamples = 1\\nvalue = [0, 1]'),\n",
       " Text(0.29535864978902954, 0.5, 'x[7] <= 0.075\\ngini = 0.444\\nsamples = 3\\nvalue = [1, 2]'),\n",
       " Text(0.2869198312236287, 0.4411764705882353, 'gini = 0.0\\nsamples = 2\\nvalue = [0, 2]'),\n",
       " Text(0.3037974683544304, 0.4411764705882353, 'gini = 0.0\\nsamples = 1\\nvalue = [1, 0]'),\n",
       " Text(0.3649789029535865, 0.5588235294117647, 'x[5] <= 0.476\\ngini = 0.464\\nsamples = 52\\nvalue = [33, 19]'),\n",
       " Text(0.3291139240506329, 0.5, 'x[1] <= 0.641\\ngini = 0.198\\nsamples = 18\\nvalue = [16, 2]'),\n",
       " Text(0.3206751054852321, 0.4411764705882353, 'gini = 0.0\\nsamples = 12\\nvalue = [12, 0]'),\n",
       " Text(0.33755274261603374, 0.4411764705882353, 'x[0] <= 0.088\\ngini = 0.444\\nsamples = 6\\nvalue = [4, 2]'),\n",
       " Text(0.3291139240506329, 0.38235294117647056, 'x[6] <= 0.454\\ngini = 0.32\\nsamples = 5\\nvalue = [4, 1]'),\n",
       " Text(0.3206751054852321, 0.3235294117647059, 'gini = 0.0\\nsamples = 4\\nvalue = [4, 0]'),\n",
       " Text(0.33755274261603374, 0.3235294117647059, 'gini = 0.0\\nsamples = 1\\nvalue = [0, 1]'),\n",
       " Text(0.3459915611814346, 0.38235294117647056, 'gini = 0.0\\nsamples = 1\\nvalue = [0, 1]'),\n",
       " Text(0.4008438818565401, 0.5, 'x[5] <= 0.53\\ngini = 0.5\\nsamples = 34\\nvalue = [17, 17]'),\n",
       " Text(0.37130801687763715, 0.4411764705882353, 'x[3] <= 0.313\\ngini = 0.415\\nsamples = 17\\nvalue = [5, 12]'),\n",
       " Text(0.3628691983122363, 0.38235294117647056, 'x[7] <= 0.092\\ngini = 0.5\\nsamples = 10\\nvalue = [5, 5]'),\n",
       " Text(0.35443037974683544, 0.3235294117647059, 'gini = 0.0\\nsamples = 4\\nvalue = [4, 0]'),\n",
       " Text(0.37130801687763715, 0.3235294117647059, 'x[3] <= 0.288\\ngini = 0.278\\nsamples = 6\\nvalue = [1, 5]'),\n",
       " Text(0.3628691983122363, 0.2647058823529412, 'gini = 0.0\\nsamples = 5\\nvalue = [0, 5]'),\n",
       " Text(0.379746835443038, 0.2647058823529412, 'gini = 0.0\\nsamples = 1\\nvalue = [1, 0]'),\n",
       " Text(0.379746835443038, 0.38235294117647056, 'gini = 0.0\\nsamples = 7\\nvalue = [0, 7]'),\n",
       " Text(0.43037974683544306, 0.4411764705882353, 'x[3] <= 0.313\\ngini = 0.415\\nsamples = 17\\nvalue = [12, 5]'),\n",
       " Text(0.41350210970464135, 0.38235294117647056, 'x[0] <= 0.088\\ngini = 0.48\\nsamples = 5\\nvalue = [2, 3]'),\n",
       " Text(0.4050632911392405, 0.3235294117647059, 'x[3] <= 0.268\\ngini = 0.444\\nsamples = 3\\nvalue = [2, 1]'),\n",
       " Text(0.39662447257383965, 0.2647058823529412, 'gini = 0.0\\nsamples = 2\\nvalue = [2, 0]'),\n",
       " Text(0.41350210970464135, 0.2647058823529412, 'gini = 0.0\\nsamples = 1\\nvalue = [0, 1]'),\n",
       " Text(0.4219409282700422, 0.3235294117647059, 'gini = 0.0\\nsamples = 2\\nvalue = [0, 2]'),\n",
       " Text(0.4472573839662447, 0.38235294117647056, 'x[6] <= 0.241\\ngini = 0.278\\nsamples = 12\\nvalue = [10, 2]'),\n",
       " Text(0.4388185654008439, 0.3235294117647059, 'x[3] <= 0.394\\ngini = 0.444\\nsamples = 6\\nvalue = [4, 2]'),\n",
       " Text(0.43037974683544306, 0.2647058823529412, 'gini = 0.0\\nsamples = 3\\nvalue = [3, 0]'),\n",
       " Text(0.4472573839662447, 0.2647058823529412, 'x[5] <= 0.605\\ngini = 0.444\\nsamples = 3\\nvalue = [1, 2]'),\n",
       " Text(0.4388185654008439, 0.20588235294117646, 'gini = 0.0\\nsamples = 2\\nvalue = [0, 2]'),\n",
       " Text(0.45569620253164556, 0.20588235294117646, 'gini = 0.0\\nsamples = 1\\nvalue = [1, 0]'),\n",
       " Text(0.45569620253164556, 0.3235294117647059, 'gini = 0.0\\nsamples = 6\\nvalue = [6, 0]'),\n",
       " Text(0.39029535864978904, 0.6176470588235294, 'x[7] <= 0.025\\ngini = 0.32\\nsamples = 5\\nvalue = [1, 4]'),\n",
       " Text(0.3818565400843882, 0.5588235294117647, 'gini = 0.0\\nsamples = 1\\nvalue = [1, 0]'),\n",
       " Text(0.3987341772151899, 0.5588235294117647, 'gini = 0.0\\nsamples = 4\\nvalue = [0, 4]'),\n",
       " Text(0.6160337552742616, 0.7352941176470589, 'x[6] <= 0.192\\ngini = 0.495\\nsamples = 122\\nvalue = [55, 67]'),\n",
       " Text(0.5379746835443038, 0.6764705882352942, 'x[7] <= 0.425\\ngini = 0.496\\nsamples = 77\\nvalue = [42, 35]'),\n",
       " Text(0.510548523206751, 0.6176470588235294, 'x[6] <= 0.021\\ngini = 0.498\\nsamples = 60\\nvalue = [28, 32]'),\n",
       " Text(0.5021097046413502, 0.5588235294117647, 'gini = 0.0\\nsamples = 3\\nvalue = [3, 0]'),\n",
       " Text(0.5189873417721519, 0.5588235294117647, 'x[6] <= 0.144\\ngini = 0.492\\nsamples = 57\\nvalue = [25, 32]'),\n",
       " Text(0.48945147679324896, 0.5, 'x[1] <= 0.535\\ngini = 0.475\\nsamples = 49\\nvalue = [19, 30]'),\n",
       " Text(0.47257383966244726, 0.4411764705882353, 'x[0] <= 0.324\\ngini = 0.463\\nsamples = 11\\nvalue = [7, 4]'),\n",
       " Text(0.4641350210970464, 0.38235294117647056, 'gini = 0.0\\nsamples = 3\\nvalue = [3, 0]'),\n",
       " Text(0.4810126582278481, 0.38235294117647056, 'x[2] <= 0.631\\ngini = 0.5\\nsamples = 8\\nvalue = [4, 4]'),\n",
       " Text(0.47257383966244726, 0.3235294117647059, 'x[5] <= 0.58\\ngini = 0.32\\nsamples = 5\\nvalue = [4, 1]'),\n",
       " Text(0.4641350210970464, 0.2647058823529412, 'gini = 0.0\\nsamples = 4\\nvalue = [4, 0]'),\n",
       " Text(0.4810126582278481, 0.2647058823529412, 'gini = 0.0\\nsamples = 1\\nvalue = [0, 1]'),\n",
       " Text(0.48945147679324896, 0.3235294117647059, 'gini = 0.0\\nsamples = 3\\nvalue = [0, 3]'),\n",
       " Text(0.5063291139240507, 0.4411764705882353, 'x[2] <= 0.549\\ngini = 0.432\\nsamples = 38\\nvalue = [12, 26]'),\n",
       " Text(0.4978902953586498, 0.38235294117647056, 'gini = 0.0\\nsamples = 8\\nvalue = [0, 8]'),\n",
       " Text(0.5147679324894515, 0.38235294117647056, 'x[0] <= 0.206\\ngini = 0.48\\nsamples = 30\\nvalue = [12, 18]'),\n",
       " Text(0.5063291139240507, 0.3235294117647059, 'gini = 0.0\\nsamples = 5\\nvalue = [0, 5]'),\n",
       " Text(0.5232067510548524, 0.3235294117647059, 'x[6] <= 0.07\\ngini = 0.499\\nsamples = 25\\nvalue = [12, 13]'),\n",
       " Text(0.5021097046413502, 0.2647058823529412, 'x[6] <= 0.03\\ngini = 0.245\\nsamples = 7\\nvalue = [1, 6]'),\n",
       " Text(0.4936708860759494, 0.20588235294117646, 'x[3] <= 0.136\\ngini = 0.5\\nsamples = 2\\nvalue = [1, 1]'),\n",
       " Text(0.48523206751054854, 0.14705882352941177, 'gini = 0.0\\nsamples = 1\\nvalue = [1, 0]'),\n",
       " Text(0.5021097046413502, 0.14705882352941177, 'gini = 0.0\\nsamples = 1\\nvalue = [0, 1]'),\n",
       " Text(0.510548523206751, 0.20588235294117646, 'gini = 0.0\\nsamples = 5\\nvalue = [0, 5]'),\n",
       " Text(0.5443037974683544, 0.2647058823529412, 'x[7] <= 0.342\\ngini = 0.475\\nsamples = 18\\nvalue = [11, 7]'),\n",
       " Text(0.5358649789029536, 0.20588235294117646, 'x[1] <= 0.575\\ngini = 0.391\\nsamples = 15\\nvalue = [11, 4]'),\n",
       " Text(0.5189873417721519, 0.14705882352941177, 'x[3] <= 0.379\\ngini = 0.444\\nsamples = 3\\nvalue = [1, 2]'),\n",
       " Text(0.510548523206751, 0.08823529411764706, 'gini = 0.0\\nsamples = 2\\nvalue = [0, 2]'),\n",
       " Text(0.5274261603375527, 0.08823529411764706, 'gini = 0.0\\nsamples = 1\\nvalue = [1, 0]'),\n",
       " Text(0.5527426160337553, 0.14705882352941177, 'x[1] <= 0.658\\ngini = 0.278\\nsamples = 12\\nvalue = [10, 2]'),\n",
       " Text(0.5443037974683544, 0.08823529411764706, 'gini = 0.0\\nsamples = 6\\nvalue = [6, 0]'),\n",
       " Text(0.5611814345991561, 0.08823529411764706, 'x[6] <= 0.08\\ngini = 0.444\\nsamples = 6\\nvalue = [4, 2]'),\n",
       " Text(0.5527426160337553, 0.029411764705882353, 'gini = 0.0\\nsamples = 4\\nvalue = [4, 0]'),\n",
       " Text(0.569620253164557, 0.029411764705882353, 'gini = 0.0\\nsamples = 2\\nvalue = [0, 2]'),\n",
       " Text(0.5527426160337553, 0.20588235294117646, 'gini = 0.0\\nsamples = 3\\nvalue = [0, 3]'),\n",
       " Text(0.5485232067510548, 0.5, 'x[3] <= 0.061\\ngini = 0.375\\nsamples = 8\\nvalue = [6, 2]'),\n",
       " Text(0.540084388185654, 0.4411764705882353, 'x[1] <= 0.608\\ngini = 0.444\\nsamples = 3\\nvalue = [1, 2]'),\n",
       " Text(0.5316455696202531, 0.38235294117647056, 'gini = 0.0\\nsamples = 2\\nvalue = [0, 2]'),\n",
       " Text(0.5485232067510548, 0.38235294117647056, 'gini = 0.0\\nsamples = 1\\nvalue = [1, 0]'),\n",
       " Text(0.5569620253164557, 0.4411764705882353, 'gini = 0.0\\nsamples = 5\\nvalue = [5, 0]'),\n",
       " Text(0.5654008438818565, 0.6176470588235294, 'x[5] <= 0.405\\ngini = 0.291\\nsamples = 17\\nvalue = [14, 3]'),\n",
       " Text(0.5569620253164557, 0.5588235294117647, 'gini = 0.0\\nsamples = 1\\nvalue = [0, 1]'),\n",
       " Text(0.5738396624472574, 0.5588235294117647, 'x[6] <= 0.025\\ngini = 0.219\\nsamples = 16\\nvalue = [14, 2]'),\n",
       " Text(0.5654008438818565, 0.5, 'gini = 0.0\\nsamples = 1\\nvalue = [0, 1]'),\n",
       " Text(0.5822784810126582, 0.5, 'x[1] <= 0.716\\ngini = 0.124\\nsamples = 15\\nvalue = [14, 1]'),\n",
       " Text(0.5738396624472574, 0.4411764705882353, 'gini = 0.0\\nsamples = 13\\nvalue = [13, 0]'),\n",
       " Text(0.5907172995780591, 0.4411764705882353, 'x[7] <= 0.467\\ngini = 0.5\\nsamples = 2\\nvalue = [1, 1]'),\n",
       " Text(0.5822784810126582, 0.38235294117647056, 'gini = 0.0\\nsamples = 1\\nvalue = [1, 0]'),\n",
       " Text(0.5991561181434599, 0.38235294117647056, 'gini = 0.0\\nsamples = 1\\nvalue = [0, 1]'),\n",
       " Text(0.6940928270042194, 0.6764705882352942, 'x[0] <= 0.441\\ngini = 0.411\\nsamples = 45\\nvalue = [13.0, 32.0]'),\n",
       " Text(0.6708860759493671, 0.6176470588235294, 'x[6] <= 0.379\\ngini = 0.485\\nsamples = 29\\nvalue = [12, 17]'),\n",
       " Text(0.6497890295358649, 0.5588235294117647, 'x[5] <= 0.493\\ngini = 0.499\\nsamples = 19\\nvalue = [10, 9]'),\n",
       " Text(0.6329113924050633, 0.5, 'x[2] <= 0.582\\ngini = 0.444\\nsamples = 9\\nvalue = [3, 6]'),\n",
       " Text(0.6244725738396625, 0.4411764705882353, 'x[2] <= 0.541\\ngini = 0.375\\nsamples = 4\\nvalue = [3, 1]'),\n",
       " Text(0.6160337552742616, 0.38235294117647056, 'x[6] <= 0.27\\ngini = 0.5\\nsamples = 2\\nvalue = [1, 1]'),\n",
       " Text(0.6075949367088608, 0.3235294117647059, 'gini = 0.0\\nsamples = 1\\nvalue = [1, 0]'),\n",
       " Text(0.6244725738396625, 0.3235294117647059, 'gini = 0.0\\nsamples = 1\\nvalue = [0, 1]'),\n",
       " Text(0.6329113924050633, 0.38235294117647056, 'gini = 0.0\\nsamples = 2\\nvalue = [2, 0]'),\n",
       " Text(0.6413502109704642, 0.4411764705882353, 'gini = 0.0\\nsamples = 5\\nvalue = [0, 5]'),\n",
       " Text(0.6666666666666666, 0.5, 'x[1] <= 0.563\\ngini = 0.42\\nsamples = 10\\nvalue = [7, 3]'),\n",
       " Text(0.6582278481012658, 0.4411764705882353, 'gini = 0.0\\nsamples = 4\\nvalue = [4, 0]'),\n",
       " Text(0.6751054852320675, 0.4411764705882353, 'x[5] <= 0.51\\ngini = 0.5\\nsamples = 6\\nvalue = [3, 3]'),\n",
       " Text(0.6666666666666666, 0.38235294117647056, 'gini = 0.0\\nsamples = 2\\nvalue = [2, 0]'),\n",
       " Text(0.6835443037974683, 0.38235294117647056, 'x[0] <= 0.353\\ngini = 0.375\\nsamples = 4\\nvalue = [1, 3]'),\n",
       " Text(0.6751054852320675, 0.3235294117647059, 'gini = 0.0\\nsamples = 3\\nvalue = [0, 3]'),\n",
       " Text(0.6919831223628692, 0.3235294117647059, 'gini = 0.0\\nsamples = 1\\nvalue = [1, 0]'),\n",
       " Text(0.6919831223628692, 0.5588235294117647, 'x[1] <= 0.54\\ngini = 0.32\\nsamples = 10\\nvalue = [2, 8]'),\n",
       " Text(0.6835443037974683, 0.5, 'gini = 0.0\\nsamples = 1\\nvalue = [1, 0]'),\n",
       " Text(0.70042194092827, 0.5, 'x[4] <= 0.226\\ngini = 0.198\\nsamples = 9\\nvalue = [1, 8]'),\n",
       " Text(0.6919831223628692, 0.4411764705882353, 'gini = 0.0\\nsamples = 7\\nvalue = [0, 7]'),\n",
       " Text(0.7088607594936709, 0.4411764705882353, 'x[4] <= 0.241\\ngini = 0.5\\nsamples = 2\\nvalue = [1, 1]'),\n",
       " Text(0.70042194092827, 0.38235294117647056, 'gini = 0.0\\nsamples = 1\\nvalue = [1, 0]'),\n",
       " Text(0.7172995780590717, 0.38235294117647056, 'gini = 0.0\\nsamples = 1\\nvalue = [0, 1]'),\n",
       " Text(0.7172995780590717, 0.6176470588235294, 'x[6] <= 0.548\\ngini = 0.117\\nsamples = 16\\nvalue = [1, 15]'),\n",
       " Text(0.7088607594936709, 0.5588235294117647, 'gini = 0.0\\nsamples = 15\\nvalue = [0, 15]'),\n",
       " Text(0.7257383966244726, 0.5588235294117647, 'gini = 0.0\\nsamples = 1\\nvalue = [1, 0]'),\n",
       " Text(0.8889767932489452, 0.9117647058823529, 'x[1] <= 0.776\\ngini = 0.416\\nsamples = 159\\nvalue = [47.0, 112.0]'),\n",
       " Text(0.820675105485232, 0.8529411764705882, 'x[7] <= 0.408\\ngini = 0.5\\nsamples = 50\\nvalue = [25, 25]'),\n",
       " Text(0.7805907172995781, 0.7941176470588235, 'x[0] <= 0.382\\ngini = 0.478\\nsamples = 38\\nvalue = [23, 15]'),\n",
       " Text(0.759493670886076, 0.7352941176470589, 'x[2] <= 0.23\\ngini = 0.4\\nsamples = 29\\nvalue = [21, 8]'),\n",
       " Text(0.7510548523206751, 0.6764705882352942, 'gini = 0.0\\nsamples = 2\\nvalue = [0, 2]'),\n",
       " Text(0.7679324894514767, 0.6764705882352942, 'x[4] <= 0.361\\ngini = 0.346\\nsamples = 27\\nvalue = [21, 6]'),\n",
       " Text(0.7510548523206751, 0.6176470588235294, 'x[7] <= 0.008\\ngini = 0.278\\nsamples = 24\\nvalue = [20, 4]'),\n",
       " Text(0.7426160337552743, 0.5588235294117647, 'gini = 0.0\\nsamples = 1\\nvalue = [0, 1]'),\n",
       " Text(0.759493670886076, 0.5588235294117647, 'x[1] <= 0.736\\ngini = 0.227\\nsamples = 23\\nvalue = [20, 3]'),\n",
       " Text(0.7510548523206751, 0.5, 'x[6] <= 0.108\\ngini = 0.42\\nsamples = 10\\nvalue = [7, 3]'),\n",
       " Text(0.7426160337552743, 0.4411764705882353, 'gini = 0.0\\nsamples = 4\\nvalue = [4, 0]'),\n",
       " Text(0.759493670886076, 0.4411764705882353, 'x[6] <= 0.205\\ngini = 0.5\\nsamples = 6\\nvalue = [3, 3]'),\n",
       " Text(0.7510548523206751, 0.38235294117647056, 'gini = 0.0\\nsamples = 3\\nvalue = [0, 3]'),\n",
       " Text(0.7679324894514767, 0.38235294117647056, 'gini = 0.0\\nsamples = 3\\nvalue = [3, 0]'),\n",
       " Text(0.7679324894514767, 0.5, 'gini = 0.0\\nsamples = 13\\nvalue = [13, 0]'),\n",
       " Text(0.7848101265822784, 0.6176470588235294, 'x[4] <= 0.499\\ngini = 0.444\\nsamples = 3\\nvalue = [1, 2]'),\n",
       " Text(0.7763713080168776, 0.5588235294117647, 'gini = 0.0\\nsamples = 2\\nvalue = [0, 2]'),\n",
       " Text(0.7932489451476793, 0.5588235294117647, 'gini = 0.0\\nsamples = 1\\nvalue = [1, 0]'),\n",
       " Text(0.8016877637130801, 0.7352941176470589, 'x[6] <= 0.057\\ngini = 0.346\\nsamples = 9\\nvalue = [2, 7]'),\n",
       " Text(0.7932489451476793, 0.6764705882352942, 'gini = 0.0\\nsamples = 1\\nvalue = [1, 0]'),\n",
       " Text(0.810126582278481, 0.6764705882352942, 'x[2] <= 0.557\\ngini = 0.219\\nsamples = 8\\nvalue = [1, 7]'),\n",
       " Text(0.8016877637130801, 0.6176470588235294, 'gini = 0.0\\nsamples = 1\\nvalue = [1, 0]'),\n",
       " Text(0.8185654008438819, 0.6176470588235294, 'gini = 0.0\\nsamples = 7\\nvalue = [0, 7]'),\n",
       " Text(0.8607594936708861, 0.7941176470588235, 'x[0] <= 0.676\\ngini = 0.278\\nsamples = 12\\nvalue = [2, 10]'),\n",
       " Text(0.8523206751054853, 0.7352941176470589, 'x[6] <= 0.063\\ngini = 0.165\\nsamples = 11\\nvalue = [1, 10]'),\n",
       " Text(0.8438818565400844, 0.6764705882352942, 'x[2] <= 0.648\\ngini = 0.5\\nsamples = 2\\nvalue = [1, 1]'),\n",
       " Text(0.8354430379746836, 0.6176470588235294, 'gini = 0.0\\nsamples = 1\\nvalue = [1, 0]'),\n",
       " Text(0.8523206751054853, 0.6176470588235294, 'gini = 0.0\\nsamples = 1\\nvalue = [0, 1]'),\n",
       " Text(0.8607594936708861, 0.6764705882352942, 'gini = 0.0\\nsamples = 9\\nvalue = [0, 9]'),\n",
       " Text(0.869198312236287, 0.7352941176470589, 'gini = 0.0\\nsamples = 1\\nvalue = [1, 0]'),\n",
       " Text(0.9572784810126582, 0.8529411764705882, 'x[7] <= 0.692\\ngini = 0.322\\nsamples = 109\\nvalue = [22, 87]'),\n",
       " Text(0.9314345991561181, 0.7941176470588235, 'x[4] <= 0.643\\ngini = 0.286\\nsamples = 104\\nvalue = [18, 86]'),\n",
       " Text(0.9050632911392406, 0.7352941176470589, 'x[6] <= 0.095\\ngini = 0.257\\nsamples = 99\\nvalue = [15, 84]'),\n",
       " Text(0.8776371308016878, 0.6764705882352942, 'x[6] <= 0.09\\ngini = 0.412\\nsamples = 31\\nvalue = [9, 22]'),\n",
       " Text(0.869198312236287, 0.6176470588235294, 'x[1] <= 0.912\\ngini = 0.366\\nsamples = 29\\nvalue = [7, 22]'),\n",
       " Text(0.8607594936708861, 0.5588235294117647, 'x[7] <= 0.542\\ngini = 0.444\\nsamples = 21\\nvalue = [7, 14]'),\n",
       " Text(0.8523206751054853, 0.5, 'x[7] <= 0.275\\ngini = 0.388\\nsamples = 19\\nvalue = [5, 14]'),\n",
       " Text(0.8438818565400844, 0.4411764705882353, 'x[6] <= 0.038\\ngini = 0.5\\nsamples = 10\\nvalue = [5, 5]'),\n",
       " Text(0.8354430379746836, 0.38235294117647056, 'gini = 0.0\\nsamples = 2\\nvalue = [2, 0]'),\n",
       " Text(0.8523206751054853, 0.38235294117647056, 'x[1] <= 0.884\\ngini = 0.469\\nsamples = 8\\nvalue = [3, 5]'),\n",
       " Text(0.8438818565400844, 0.3235294117647059, 'x[3] <= 0.384\\ngini = 0.278\\nsamples = 6\\nvalue = [1, 5]'),\n",
       " Text(0.8354430379746836, 0.2647058823529412, 'gini = 0.0\\nsamples = 5\\nvalue = [0, 5]'),\n",
       " Text(0.8523206751054853, 0.2647058823529412, 'gini = 0.0\\nsamples = 1\\nvalue = [1, 0]'),\n",
       " Text(0.8607594936708861, 0.3235294117647059, 'gini = 0.0\\nsamples = 2\\nvalue = [2, 0]'),\n",
       " Text(0.8607594936708861, 0.4411764705882353, 'gini = 0.0\\nsamples = 9\\nvalue = [0, 9]'),\n",
       " Text(0.869198312236287, 0.5, 'gini = 0.0\\nsamples = 2\\nvalue = [2, 0]'),\n",
       " Text(0.8776371308016878, 0.5588235294117647, 'gini = 0.0\\nsamples = 8\\nvalue = [0, 8]'),\n",
       " Text(0.8860759493670886, 0.6176470588235294, 'gini = 0.0\\nsamples = 2\\nvalue = [2, 0]'),\n",
       " Text(0.9324894514767933, 0.6764705882352942, 'x[2] <= 0.754\\ngini = 0.161\\nsamples = 68\\nvalue = [6, 62]'),\n",
       " Text(0.9113924050632911, 0.6176470588235294, 'x[7] <= 0.45\\ngini = 0.117\\nsamples = 64\\nvalue = [4, 60]'),\n",
       " Text(0.8945147679324894, 0.5588235294117647, 'x[2] <= 0.418\\ngini = 0.039\\nsamples = 50\\nvalue = [1, 49]'),\n",
       " Text(0.8860759493670886, 0.5, 'x[0] <= 0.029\\ngini = 0.444\\nsamples = 3\\nvalue = [1, 2]'),\n",
       " Text(0.8776371308016878, 0.4411764705882353, 'gini = 0.0\\nsamples = 2\\nvalue = [0, 2]'),\n",
       " Text(0.8945147679324894, 0.4411764705882353, 'gini = 0.0\\nsamples = 1\\nvalue = [1, 0]'),\n",
       " Text(0.9029535864978903, 0.5, 'gini = 0.0\\nsamples = 47\\nvalue = [0, 47]'),\n",
       " Text(0.9282700421940928, 0.5588235294117647, 'x[0] <= 0.088\\ngini = 0.337\\nsamples = 14\\nvalue = [3, 11]'),\n",
       " Text(0.919831223628692, 0.5, 'gini = 0.0\\nsamples = 2\\nvalue = [2, 0]'),\n",
       " Text(0.9367088607594937, 0.5, 'x[2] <= 0.566\\ngini = 0.153\\nsamples = 12\\nvalue = [1, 11]'),\n",
       " Text(0.9282700421940928, 0.4411764705882353, 'x[6] <= 0.233\\ngini = 0.5\\nsamples = 2\\nvalue = [1, 1]'),\n",
       " Text(0.919831223628692, 0.38235294117647056, 'gini = 0.0\\nsamples = 1\\nvalue = [0, 1]'),\n",
       " Text(0.9367088607594937, 0.38235294117647056, 'gini = 0.0\\nsamples = 1\\nvalue = [1, 0]'),\n",
       " Text(0.9451476793248945, 0.4411764705882353, 'gini = 0.0\\nsamples = 10\\nvalue = [0, 10]'),\n",
       " Text(0.9535864978902954, 0.6176470588235294, 'x[1] <= 0.889\\ngini = 0.5\\nsamples = 4\\nvalue = [2, 2]'),\n",
       " Text(0.9451476793248945, 0.5588235294117647, 'gini = 0.0\\nsamples = 1\\nvalue = [0, 1]'),\n",
       " Text(0.9620253164556962, 0.5588235294117647, 'x[6] <= 0.205\\ngini = 0.444\\nsamples = 3\\nvalue = [2, 1]'),\n",
       " Text(0.9535864978902954, 0.5, 'gini = 0.0\\nsamples = 1\\nvalue = [0, 1]'),\n",
       " Text(0.9704641350210971, 0.5, 'gini = 0.0\\nsamples = 2\\nvalue = [2, 0]'),\n",
       " Text(0.9578059071729957, 0.7352941176470589, 'x[2] <= 0.566\\ngini = 0.48\\nsamples = 5\\nvalue = [3, 2]'),\n",
       " Text(0.9493670886075949, 0.6764705882352942, 'gini = 0.0\\nsamples = 2\\nvalue = [0, 2]'),\n",
       " Text(0.9662447257383966, 0.6764705882352942, 'gini = 0.0\\nsamples = 3\\nvalue = [3, 0]'),\n",
       " Text(0.9831223628691983, 0.7941176470588235, 'x[2] <= 0.697\\ngini = 0.32\\nsamples = 5\\nvalue = [4, 1]'),\n",
       " Text(0.9746835443037974, 0.7352941176470589, 'gini = 0.0\\nsamples = 4\\nvalue = [4, 0]'),\n",
       " Text(0.9915611814345991, 0.7352941176470589, 'gini = 0.0\\nsamples = 1\\nvalue = [0, 1]')]"
      ]
     },
     "execution_count": 22,
     "metadata": {},
     "output_type": "execute_result"
    },
    {
     "data": {
      "image/png": "[encoded data removed]",
      "text/plain": [
       "<Figure size 640x480 with 1 Axes>"
      ]
     },
     "metadata": {},
     "output_type": "display_data"
    }
   ],
   "source": [
    "tree.plot_tree(clf)"
   ]
  },
  {
   "cell_type": "code",
   "execution_count": null,
   "metadata": {},
   "outputs": [],
   "source": []
  },
  {
   "cell_type": "code",
   "execution_count": null,
   "metadata": {},
   "outputs": [],
   "source": []
  }
 ],
 "metadata": {
  "colab": {
   "provenance": [
    {
     "file_id": "1xocfAfxPpSUVNskDOHEKqbGVkTELSutl",
     "timestamp": 1676283949223
    }
   ]
  },
  "kernelspec": {
   "display_name": "Python 3 (ipykernel)",
   "language": "python",
   "name": "python3"
  },
  "language_info": {
   "codemirror_mode": {
    "name": "ipython",
    "version": 3
   },
   "file_extension": ".py",
   "mimetype": "text/x-python",
   "name": "python",
   "nbconvert_exporter": "python",
   "pygments_lexer": "ipython3",
   "version": "3.12.4"
  }
 },
 "nbformat": 4,
 "nbformat_minor": 4
}
