{
 "cells": [
  {
   "cell_type": "code",
   "execution_count": 19,
   "id": "c20a1016-217e-4e37-ba93-332baca7e417",
   "metadata": {},
   "outputs": [],
   "source": [
    "from scipy.io import loadmat\n",
    "from sklearn.model_selection import *\n",
    "from sklearn import *\n",
    "from sklearn.metrics import *\n",
    "from sklearn.neighbors import *"
   ]
  },
  {
   "cell_type": "code",
   "execution_count": 21,
   "id": "e5e3ef60-e628-455e-a7c8-e4fbdb0c427e",
   "metadata": {},
   "outputs": [],
   "source": [
    "data =loadmat('pima_dataset.mat')\n",
    "x=data['norm_data']\n",
    "y=data['target']"
   ]
  },
  {
   "cell_type": "code",
   "execution_count": 25,
   "id": "561f699c-6f42-4a34-921a-975f764f9ea9",
   "metadata": {},
   "outputs": [],
   "source": [
    "kf=KFold(n_splits=10)\n",
    "for train,test in kf.split(x):\n",
    "    x_train=x[train]\n",
    "    y_train=y[train]\n",
    "    x_test=x[test]\n",
    "    y_test=y[test]\n",
    "    clf=KNeighborsClassifier(n_neighbors=10)"
   ]
  },
  {
   "cell_type": "code",
   "execution_count": null,
   "id": "e66ebfec-b25d-4cda-a408-abea27c4b629",
   "metadata": {},
   "outputs": [],
   "source": []
  }
 ],
 "metadata": {
  "kernelspec": {
   "display_name": "Python 3 (ipykernel)",
   "language": "python",
   "name": "python3"
  },
  "language_info": {
   "codemirror_mode": {
    "name": "ipython",
    "version": 3
   },
   "file_extension": ".py",
   "mimetype": "text/x-python",
   "name": "python",
   "nbconvert_exporter": "python",
   "pygments_lexer": "ipython3",
   "version": "3.12.4"
  }
 },
 "nbformat": 4,
 "nbformat_minor": 5
}
